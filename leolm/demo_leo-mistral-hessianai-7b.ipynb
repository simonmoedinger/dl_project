{
 "cells": [
  {
   "cell_type": "code",
   "execution_count": 13,
   "id": "initial_id",
   "metadata": {
    "collapsed": true,
    "ExecuteTime": {
     "end_time": "2023-11-24T09:12:17.907025900Z",
     "start_time": "2023-11-24T09:12:17.623522300Z"
    }
   },
   "outputs": [],
   "source": [
    "import math\n",
    "\n",
    "import numpy as np\n",
    "from transformers import AutoModelForCausalLM, AutoTokenizer, TextStreamer, GenerationConfig\n",
    "import torch\n",
    "from tqdm import tqdm\n",
    "import pandas as pd\n",
    "import math\n",
    "from sklearn.metrics import accuracy_score"
   ]
  },
  {
   "cell_type": "code",
   "execution_count": 2,
   "outputs": [
    {
     "data": {
      "text/plain": "Loading checkpoint shards:   0%|          | 0/2 [00:00<?, ?it/s]",
      "application/vnd.jupyter.widget-view+json": {
       "version_major": 2,
       "version_minor": 0,
       "model_id": "390b479e90cc473280de29d4ec2798f5"
      }
     },
     "metadata": {},
     "output_type": "display_data"
    }
   ],
   "source": [
    "model_name = \"LeoLM/leo-mistral-hessianai-7b\"\n",
    "model = AutoModelForCausalLM.from_pretrained(\n",
    "    model_name,\n",
    "    device_map=\"auto\",\n",
    "    torch_dtype=torch.bfloat16,\n",
    ")"
   ],
   "metadata": {
    "collapsed": false,
    "ExecuteTime": {
     "end_time": "2023-11-24T08:56:39.704999500Z",
     "start_time": "2023-11-24T08:56:23.049139300Z"
    }
   },
   "id": "436a4dfae4bac7dc"
  },
  {
   "cell_type": "code",
   "execution_count": 3,
   "outputs": [],
   "source": [
    "tokenizer=AutoTokenizer.from_pretrained(model_name)\n",
    "tokenizer.pad_token_id=tokenizer.eos_token_id"
   ],
   "metadata": {
    "collapsed": false,
    "ExecuteTime": {
     "end_time": "2023-11-24T08:56:39.870338700Z",
     "start_time": "2023-11-24T08:56:39.700985500Z"
    }
   },
   "id": "93a5be9de6fa057f"
  },
  {
   "cell_type": "code",
   "execution_count": 4,
   "outputs": [],
   "source": [
    "generation_config=GenerationConfig(max_new_tokens=30,\n",
    "                                    temperature=0.4,\n",
    "                                    top_p=0.95,\n",
    "                                    top_k=40,\n",
    "                                    repetition_penalty=1.2,\n",
    "                                    bos_token_id=tokenizer.bos_token_id,\n",
    "                                    eos_token_id=tokenizer.eos_token_id,\n",
    "                                    do_sample=True,\n",
    "                                    use_cache=True,\n",
    "                                    output_attentions=False,\n",
    "                                    output_hidden_states=False,\n",
    "                                    output_scores=False,\n",
    "                                    remove_invalid_values=True\n",
    "                                    )"
   ],
   "metadata": {
    "collapsed": false,
    "ExecuteTime": {
     "end_time": "2023-11-24T08:56:39.875651200Z",
     "start_time": "2023-11-24T08:56:39.870338700Z"
    }
   },
   "id": "d6be9cb7c17832f8"
  },
  {
   "cell_type": "code",
   "execution_count": 5,
   "outputs": [],
   "source": [
    "def prompt_model(prompt):\n",
    "    input_tokens=tokenizer(\"Du bist ein hilfreicher assistent, der alle fragen so korrekt wie möglich beantwortet. <BENUTZER>:\" + prompt + \" <ASSISTENT>:\", return_tensors=\"pt\").to(model.device)\n",
    "    output_tokens=model.generate(**input_tokens, generation_config=generation_config, pad_token_id=tokenizer.eos_token_id)[0]\n",
    "    answer=tokenizer.decode(output_tokens, skip_special_tokens=True)\n",
    "    return answer"
   ],
   "metadata": {
    "collapsed": false,
    "ExecuteTime": {
     "end_time": "2023-11-24T08:56:39.879855700Z",
     "start_time": "2023-11-24T08:56:39.873644400Z"
    }
   },
   "id": "e996c8ae797740a6"
  },
  {
   "cell_type": "code",
   "execution_count": 6,
   "outputs": [],
   "source": [
    "prompt_case = \"Es folgt eine Fallbeschreibung, dessen Anfang und Ende durch die Tags BEGINFALL und ENDFALL markiert ist. Darauf wird eine Frage gestellt, die zwischen den TAGS BEGINFRAGE und ENDFRAGE steht. Die Antwortmöglichkeiten stehen jeweils zwischen den Tags BEGINANTWORT und ENDANTWORT. BEGINFALL <INSERTFALL> ENDFALL BEGINFRAGE <INSERTFRAGE> ENDFRAGE BEGINANTWORT <INSERTANTWORT0> ENDANTWORT BEGINANTWORT <INSERTANTWORT1> ENDANTWORT BEGINANTWORT <INSERTANTWORT2> ENDANTWORT BEGINANTWORT <INSERTANTWORT3> ENDANTWORT BEGINANTWORT <INSERTANTWORT4> ENDANTWORT. Beantworte die Frage, indem du die korrekte Antwortmöglichkeit wiedergibst.\"\n",
    "prompt_no_case = \"Es wird eine Frage gestellt, die zwischen den TAGS BEGINFRAGE und ENDFRAGE steht. Die Antwortmöglichkeiten stehen jeweils zwischen den Tags BEGINANTWORT und ENDANTWORT. BEGINFALL <INSERTFALL> ENDFALL BEGINFRAGE <INSERTFRAGE> ENDFRAGE BEGINANTWORT <INSERTANTWORT0> ENDANTWORT BEGINANTWORT <INSERTANTWORT1> ENDANTWORT BEGINANTWORT <INSERTANTWORT2> ENDANTWORT BEGINANTWORT <INSERTANTWORT3> ENDANTWORT BEGINANTWORT <INSERTANTWORT4> ENDANTWORT. Beantworte die Frage, indem du die korrekte Antwortmöglichkeit wiedergibst.\""
   ],
   "metadata": {
    "collapsed": false,
    "ExecuteTime": {
     "end_time": "2023-11-24T08:56:39.885267200Z",
     "start_time": "2023-11-24T08:56:39.878852100Z"
    }
   },
   "id": "95ff80a7a740d601"
  },
  {
   "cell_type": "code",
   "execution_count": 7,
   "outputs": [],
   "source": [
    "questions_df = pd.read_csv(\"../staatsexamen/hs1_hs2.csv\")\n",
    "questions_df[\"Prediction LLM\"] = [-1 for i in range(len(questions_df))]\n",
    "questions_df[\"Answer LLM\"] = [-1 for i in range(len(questions_df))]"
   ],
   "metadata": {
    "collapsed": false,
    "ExecuteTime": {
     "end_time": "2023-11-24T08:56:40.307731400Z",
     "start_time": "2023-11-24T08:56:40.292352700Z"
    }
   },
   "id": "aee5cfd96cc34947"
  },
  {
   "cell_type": "code",
   "execution_count": 12,
   "outputs": [
    {
     "name": "stdout",
     "output_type": "stream",
     "text": [
      "Values set: 144 / 248\n"
     ]
    }
   ],
   "source": [
    "for index, row in tqdm(questions_df.iterrows()):\n",
    "    if type(row[\"Case\"]) == str:\n",
    "        prompt = prompt_case.replace(\"<INSERTFALL>\",row[\"Case\"])\n",
    "    else:\n",
    "        prompt = prompt_no_case\n",
    "    prompt = prompt.replace(\"<INSERTFRAGE>\",row[\"Question\"])\n",
    "    for i in range(5):\n",
    "        prompt = prompt.replace(\"<INSERTANTWORT\" + str(i) + \">\",row[\"Answer \"+ str(i+1)].replace(str(i) + \")\",\"\"))\n",
    "    answer = prompt_model(prompt).split(\"<ASSISTENT>:\")[1].split(\"ENDANTWORT\")\n",
    "    found = False\n",
    "    for i in range(5):\n",
    "        if row[\"Answer \"+ str(i+1)].replace(str(i) + \")\",\"\").strip().lower() == answer[0].strip().lower():\n",
    "            found = i\n",
    "            break\n",
    "    #print(answer)\n",
    "    if found != False:\n",
    "        questions_df.loc[index, \"Answer LLM\"] = found\n",
    "    questions_df.loc[index, \"Prediction LLM\"] = \" ENDANTWORT \".join(answer)\n",
    "print(\"Values set:\", len(questions_df[questions_df[\"Answer LLM\"] != -1]),\"/\",len(questions_df))\n"
   ],
   "metadata": {
    "collapsed": false,
    "ExecuteTime": {
     "end_time": "2023-11-24T09:12:17.627536Z",
     "start_time": "2023-11-24T09:10:23.737879900Z"
    }
   },
   "id": "7aba98c46cd6efe"
  },
  {
   "cell_type": "code",
   "execution_count": 16,
   "outputs": [],
   "source": [
    "questions_df.to_csv(\"leo_mistral_hessiani_output.csv\")"
   ],
   "metadata": {
    "collapsed": false,
    "ExecuteTime": {
     "end_time": "2023-11-24T09:13:35.673403Z",
     "start_time": "2023-11-24T09:13:35.666689300Z"
    }
   },
   "id": "b5194e3f9c58349c"
  },
  {
   "cell_type": "code",
   "execution_count": 14,
   "outputs": [],
   "source": [
    "y_pred = questions_df[questions_df[\"Answer LLM\"] != -1][\"Answer LLM\"]\n",
    "y_true = questions_df[questions_df[\"Answer LLM\"] != -1][\"Correct Answer\"]"
   ],
   "metadata": {
    "collapsed": false,
    "ExecuteTime": {
     "end_time": "2023-11-24T09:12:46.483444Z",
     "start_time": "2023-11-24T09:12:46.478481300Z"
    }
   },
   "id": "ed43cb16ba034b9b"
  },
  {
   "cell_type": "code",
   "execution_count": 15,
   "outputs": [
    {
     "name": "stdout",
     "output_type": "stream",
     "text": [
      "Accuracy: 0.3680555555555556\n"
     ]
    }
   ],
   "source": [
    "print(\"Accuracy:\",accuracy_score(y_true, y_pred))"
   ],
   "metadata": {
    "collapsed": false,
    "ExecuteTime": {
     "end_time": "2023-11-24T09:13:10.402273900Z",
     "start_time": "2023-11-24T09:13:10.398224300Z"
    }
   },
   "id": "67a6ec3d09c98719"
  }
 ],
 "metadata": {
  "kernelspec": {
   "display_name": "Python 3",
   "language": "python",
   "name": "python3"
  },
  "language_info": {
   "codemirror_mode": {
    "name": "ipython",
    "version": 2
   },
   "file_extension": ".py",
   "mimetype": "text/x-python",
   "name": "python",
   "nbconvert_exporter": "python",
   "pygments_lexer": "ipython2",
   "version": "2.7.6"
  }
 },
 "nbformat": 4,
 "nbformat_minor": 5
}
