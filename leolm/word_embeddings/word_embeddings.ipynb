{
 "cells": [
  {
   "cell_type": "code",
   "execution_count": 1,
   "id": "initial_id",
   "metadata": {
    "collapsed": true,
    "ExecuteTime": {
     "end_time": "2024-01-13T13:30:43.118944300Z",
     "start_time": "2024-01-13T13:30:41.659875400Z"
    }
   },
   "outputs": [],
   "source": [
    "import math\n",
    "\n",
    "import numpy as np\n",
    "from transformers import AutoModelForCausalLM, AutoTokenizer, TextStreamer, GenerationConfig\n",
    "import torch\n",
    "import pandas as pd\n",
    "from sklearn.manifold import TSNE\n",
    "import matplotlib.pyplot as plt\n",
    "import math\n",
    "from sklearn.metrics import accuracy_score\n",
    "import plotly.express as px\n",
    "from plotly import graph_objects as go"
   ]
  },
  {
   "cell_type": "code",
   "execution_count": 2,
   "outputs": [],
   "source": [
    "icd_codes = pd.read_csv(\"icd10gm2024syst_kodes.txt\", sep=\";\", header=None)"
   ],
   "metadata": {
    "collapsed": false,
    "ExecuteTime": {
     "end_time": "2024-01-13T13:30:43.166944500Z",
     "start_time": "2024-01-13T13:30:43.119944400Z"
    }
   },
   "id": "da77bc1750322e02"
  },
  {
   "cell_type": "code",
   "execution_count": 3,
   "outputs": [
    {
     "data": {
      "text/plain": "   0  1  2   3    4      5      6     7   \\\n0   3  N  X   1  A00  A00.-    A00   A00   \n1   4  T  X   1  A00  A00.0  A00.0  A000   \n2   4  T  X   1  A00  A00.1  A00.1  A001   \n3   4  T  X   1  A00  A00.9  A00.9  A009   \n4   3  N  X   1  A00  A01.-    A01   A01   \n\n                                                  8   \\\n0                                            Cholera   \n1  Cholera durch Vibrio cholerae O:1, Biovar chol...   \n2    Cholera durch Vibrio cholerae O:1, Biovar eltor   \n3                    Cholera, nicht näher bezeichnet   \n4                  Typhus abdominalis und Paratyphus   \n\n                                  9   ...   18 19 20    21    22 23 24 25 26  \\\n0                            Cholera  ...  001  9  9  9999  9999  9  J  J  J   \n1                            Cholera  ...  001  9  9  9999  9999  9  J  J  J   \n2                            Cholera  ...  001  9  9  9999  9999  9  J  J  J   \n3                            Cholera  ...  001  9  9  9999  9999  9  J  J  J   \n4  Typhus abdominalis und Paratyphus  ...  002  9  9  9999  9999  9  N  J  J   \n\n  27  \n0  J  \n1  J  \n2  J  \n3  J  \n4  J  \n\n[5 rows x 28 columns]",
      "text/html": "<div>\n<style scoped>\n    .dataframe tbody tr th:only-of-type {\n        vertical-align: middle;\n    }\n\n    .dataframe tbody tr th {\n        vertical-align: top;\n    }\n\n    .dataframe thead th {\n        text-align: right;\n    }\n</style>\n<table border=\"1\" class=\"dataframe\">\n  <thead>\n    <tr style=\"text-align: right;\">\n      <th></th>\n      <th>0</th>\n      <th>1</th>\n      <th>2</th>\n      <th>3</th>\n      <th>4</th>\n      <th>5</th>\n      <th>6</th>\n      <th>7</th>\n      <th>8</th>\n      <th>9</th>\n      <th>...</th>\n      <th>18</th>\n      <th>19</th>\n      <th>20</th>\n      <th>21</th>\n      <th>22</th>\n      <th>23</th>\n      <th>24</th>\n      <th>25</th>\n      <th>26</th>\n      <th>27</th>\n    </tr>\n  </thead>\n  <tbody>\n    <tr>\n      <th>0</th>\n      <td>3</td>\n      <td>N</td>\n      <td>X</td>\n      <td>1</td>\n      <td>A00</td>\n      <td>A00.-</td>\n      <td>A00</td>\n      <td>A00</td>\n      <td>Cholera</td>\n      <td>Cholera</td>\n      <td>...</td>\n      <td>001</td>\n      <td>9</td>\n      <td>9</td>\n      <td>9999</td>\n      <td>9999</td>\n      <td>9</td>\n      <td>J</td>\n      <td>J</td>\n      <td>J</td>\n      <td>J</td>\n    </tr>\n    <tr>\n      <th>1</th>\n      <td>4</td>\n      <td>T</td>\n      <td>X</td>\n      <td>1</td>\n      <td>A00</td>\n      <td>A00.0</td>\n      <td>A00.0</td>\n      <td>A000</td>\n      <td>Cholera durch Vibrio cholerae O:1, Biovar chol...</td>\n      <td>Cholera</td>\n      <td>...</td>\n      <td>001</td>\n      <td>9</td>\n      <td>9</td>\n      <td>9999</td>\n      <td>9999</td>\n      <td>9</td>\n      <td>J</td>\n      <td>J</td>\n      <td>J</td>\n      <td>J</td>\n    </tr>\n    <tr>\n      <th>2</th>\n      <td>4</td>\n      <td>T</td>\n      <td>X</td>\n      <td>1</td>\n      <td>A00</td>\n      <td>A00.1</td>\n      <td>A00.1</td>\n      <td>A001</td>\n      <td>Cholera durch Vibrio cholerae O:1, Biovar eltor</td>\n      <td>Cholera</td>\n      <td>...</td>\n      <td>001</td>\n      <td>9</td>\n      <td>9</td>\n      <td>9999</td>\n      <td>9999</td>\n      <td>9</td>\n      <td>J</td>\n      <td>J</td>\n      <td>J</td>\n      <td>J</td>\n    </tr>\n    <tr>\n      <th>3</th>\n      <td>4</td>\n      <td>T</td>\n      <td>X</td>\n      <td>1</td>\n      <td>A00</td>\n      <td>A00.9</td>\n      <td>A00.9</td>\n      <td>A009</td>\n      <td>Cholera, nicht näher bezeichnet</td>\n      <td>Cholera</td>\n      <td>...</td>\n      <td>001</td>\n      <td>9</td>\n      <td>9</td>\n      <td>9999</td>\n      <td>9999</td>\n      <td>9</td>\n      <td>J</td>\n      <td>J</td>\n      <td>J</td>\n      <td>J</td>\n    </tr>\n    <tr>\n      <th>4</th>\n      <td>3</td>\n      <td>N</td>\n      <td>X</td>\n      <td>1</td>\n      <td>A00</td>\n      <td>A01.-</td>\n      <td>A01</td>\n      <td>A01</td>\n      <td>Typhus abdominalis und Paratyphus</td>\n      <td>Typhus abdominalis und Paratyphus</td>\n      <td>...</td>\n      <td>002</td>\n      <td>9</td>\n      <td>9</td>\n      <td>9999</td>\n      <td>9999</td>\n      <td>9</td>\n      <td>N</td>\n      <td>J</td>\n      <td>J</td>\n      <td>J</td>\n    </tr>\n  </tbody>\n</table>\n<p>5 rows × 28 columns</p>\n</div>"
     },
     "execution_count": 3,
     "metadata": {},
     "output_type": "execute_result"
    }
   ],
   "source": [
    "icd_codes.head()"
   ],
   "metadata": {
    "collapsed": false,
    "ExecuteTime": {
     "end_time": "2024-01-13T13:30:43.175944300Z",
     "start_time": "2024-01-13T13:30:43.172944700Z"
    }
   },
   "id": "5dae523df7661713"
  },
  {
   "cell_type": "code",
   "execution_count": 4,
   "outputs": [],
   "source": [
    "diseases = list(set(icd_codes[9]))"
   ],
   "metadata": {
    "collapsed": false,
    "ExecuteTime": {
     "end_time": "2024-01-13T13:30:43.181945100Z",
     "start_time": "2024-01-13T13:30:43.174944600Z"
    }
   },
   "id": "e34e91410746f9e8"
  },
  {
   "cell_type": "code",
   "execution_count": 5,
   "outputs": [],
   "source": [
    "diseases = [item for item in diseases if \"Sonstige\" not in item]\n",
    "diseases = [item for item in diseases if \"Nicht belegte Schlüssel\" not in item]\n",
    "diseases = [item for item in diseases if \"Nicht näher bezeichnet\" not in item]\n"
   ],
   "metadata": {
    "collapsed": false,
    "ExecuteTime": {
     "end_time": "2024-01-13T13:30:43.187945900Z",
     "start_time": "2024-01-13T13:30:43.179944900Z"
    }
   },
   "id": "c011959e449a26c5"
  },
  {
   "cell_type": "code",
   "execution_count": 6,
   "outputs": [
    {
     "data": {
      "text/plain": "1377"
     },
     "execution_count": 6,
     "metadata": {},
     "output_type": "execute_result"
    }
   ],
   "source": [
    "len(diseases)"
   ],
   "metadata": {
    "collapsed": false,
    "ExecuteTime": {
     "end_time": "2024-01-13T13:30:43.195944800Z",
     "start_time": "2024-01-13T13:30:43.187945900Z"
    }
   },
   "id": "aa81f7cebb3502cc"
  },
  {
   "cell_type": "code",
   "execution_count": 7,
   "outputs": [
    {
     "data": {
      "text/plain": "Loading checkpoint shards:   0%|          | 0/2 [00:00<?, ?it/s]",
      "application/vnd.jupyter.widget-view+json": {
       "version_major": 2,
       "version_minor": 0,
       "model_id": "acef9acff138490fb818ae6a91b064ad"
      }
     },
     "metadata": {},
     "output_type": "display_data"
    }
   ],
   "source": [
    "model_name = \"LeoLM/leo-mistral-hessianai-7b\"\n",
    "#model_name = \"../fully_trained_model/\"\n",
    "model = AutoModelForCausalLM.from_pretrained(\n",
    "    model_name,\n",
    "    device_map=\"auto\",\n",
    "    torch_dtype=torch.bfloat16,\n",
    ")"
   ],
   "metadata": {
    "collapsed": false,
    "ExecuteTime": {
     "end_time": "2024-01-13T13:30:49.701563900Z",
     "start_time": "2024-01-13T13:30:43.196944600Z"
    }
   },
   "id": "40505e52d5095a48"
  },
  {
   "cell_type": "code",
   "execution_count": 8,
   "outputs": [],
   "source": [
    "tokenizer=AutoTokenizer.from_pretrained(model_name)\n",
    "tokenizer.pad_token_id=tokenizer.eos_token_id"
   ],
   "metadata": {
    "collapsed": false,
    "ExecuteTime": {
     "end_time": "2024-01-13T13:30:49.859972400Z",
     "start_time": "2024-01-13T13:30:49.702564500Z"
    }
   },
   "id": "5339724ebc921f2d"
  },
  {
   "cell_type": "code",
   "execution_count": 14,
   "outputs": [],
   "source": [
    "def get_embeddings(model, tokenizer, text):\n",
    "    inputs = tokenizer(text, return_tensors=\"pt\", truncation=True, padding=True).to(model.device)\n",
    "    with torch.no_grad():\n",
    "        outputs = model(**inputs, output_hidden_states=True)\n",
    "    embeddings = outputs.hidden_states[0].mean(dim=1) # Mean pooling over tokens\n",
    "    #print(len(outputs.hidden_states))\n",
    "    \n",
    "    return embeddings"
   ],
   "metadata": {
    "collapsed": false,
    "ExecuteTime": {
     "end_time": "2024-01-13T13:31:11.448078300Z",
     "start_time": "2024-01-13T13:31:11.284077700Z"
    }
   },
   "id": "2ab8d02c918fcdc5"
  },
  {
   "cell_type": "code",
   "execution_count": 10,
   "outputs": [],
   "source": [
    "test_diseases = [\"Parkinson\", \"Tremor\", \"HIV\", \"AIDS\", \"Schlaganfall\", \"Hirninfarkt\", \"Appendix\", \"Wurmfortsatz\", \"Ballenzeh\", \"Plattfuß\", \"Erkältung\", \"Grippe\"]\n",
    "diseases += test_diseases"
   ],
   "metadata": {
    "collapsed": false,
    "ExecuteTime": {
     "end_time": "2024-01-13T13:30:49.872971600Z",
     "start_time": "2024-01-13T13:30:49.862971800Z"
    }
   },
   "id": "84ca8682ef8c980b"
  },
  {
   "cell_type": "code",
   "execution_count": 15,
   "outputs": [],
   "source": [
    "embeddings = []\n",
    "labels = []\n",
    "for disease in diseases:\n",
    "    if len(disease.split(\" \")) < 2:\n",
    "        labels.append(disease)\n",
    "        embeddings.append(get_embeddings(model, tokenizer, disease).cpu())\n"
   ],
   "metadata": {
    "collapsed": false,
    "ExecuteTime": {
     "end_time": "2024-01-13T13:31:19.081881800Z",
     "start_time": "2024-01-13T13:31:13.746082500Z"
    }
   },
   "id": "49546837bab5f74"
  },
  {
   "cell_type": "code",
   "execution_count": 16,
   "outputs": [],
   "source": [
    "tsne = TSNE(n_components=2, random_state=1)\n",
    "X_tsne = tsne.fit_transform(np.array([tensor.float().numpy().reshape(4096) for tensor in embeddings]))"
   ],
   "metadata": {
    "collapsed": false,
    "ExecuteTime": {
     "end_time": "2024-01-13T13:31:19.322881600Z",
     "start_time": "2024-01-13T13:31:19.083881800Z"
    }
   },
   "id": "f8a327abef2113ad"
  },
  {
   "cell_type": "code",
   "execution_count": 17,
   "outputs": [
    {
     "data": {
      "application/vnd.plotly.v1+json": {
       "data": [
        {
         "marker": {
          "color": [
           "lightblue",
           "lightblue",
           "lightblue",
           "lightblue",
           "lightblue",
           "lightblue",
           "lightblue",
           "lightblue",
           "lightblue",
           "lightblue",
           "lightblue",
           "lightblue",
           "lightblue",
           "lightblue",
           "lightblue",
           "lightblue",
           "lightblue",
           "lightblue",
           "lightblue",
           "lightblue",
           "lightblue",
           "lightblue",
           "lightblue",
           "lightblue",
           "lightblue",
           "lightblue",
           "lightblue",
           "lightblue",
           "lightblue",
           "lightblue",
           "lightblue",
           "lightblue",
           "lightblue",
           "lightblue",
           "lightblue",
           "lightblue",
           "lightblue",
           "lightblue",
           "lightblue",
           "lightblue",
           "lightblue",
           "lightblue",
           "lightblue",
           "lightblue",
           "lightblue",
           "lightblue",
           "lightblue",
           "lightblue",
           "lightblue",
           "lightblue",
           "lightblue",
           "lightblue",
           "lightblue",
           "lightblue",
           "lightblue",
           "lightblue",
           "lightblue",
           "lightblue",
           "lightblue",
           "lightblue",
           "lightblue",
           "lightblue",
           "lightblue",
           "lightblue",
           "lightblue",
           "lightblue",
           "lightblue",
           "lightblue",
           "lightblue",
           "lightblue",
           "lightblue",
           "lightblue",
           "lightblue",
           "lightblue",
           "lightblue",
           "lightblue",
           "lightblue",
           "lightblue",
           "lightblue",
           "lightblue",
           "lightblue",
           "lightblue",
           "lightblue",
           "lightblue",
           "lightblue",
           "lightblue",
           "lightblue",
           "lightblue",
           "lightblue",
           "lightblue",
           "lightblue",
           "lightblue",
           "lightblue",
           "lightblue",
           "lightblue",
           "lightblue",
           "lightblue",
           "lightblue",
           "lightblue",
           "lightblue",
           "lightblue",
           "lightblue",
           "lightblue",
           "lightblue",
           "lightblue",
           "lightblue",
           "lightblue",
           "lightblue",
           "lightblue",
           "lightblue",
           "lightblue",
           "lightblue",
           "lightblue",
           "lightblue",
           "lightblue",
           "lightblue",
           "lightblue",
           "lightblue",
           "lightblue",
           "lightblue",
           "lightblue",
           "lightblue",
           "lightblue",
           "lightblue",
           "lightblue",
           "lightblue",
           "lightblue",
           "lightblue",
           "lightblue",
           "lightblue",
           "lightblue",
           "lightblue",
           "lightblue",
           "lightblue",
           "lightblue",
           "lightblue",
           "lightblue",
           "lightblue",
           "lightblue",
           "lightblue",
           "lightblue",
           "lightblue",
           "lightblue",
           "lightblue",
           "lightblue",
           "lightblue",
           "lightblue",
           "lightblue",
           "lightblue",
           "lightblue",
           "lightblue",
           "lightblue",
           "lightblue",
           "lightblue",
           "lightblue",
           "lightblue",
           "lightblue",
           "lightblue",
           "lightblue",
           "lightblue",
           "lightblue",
           "lightblue",
           "lightblue",
           "lightblue",
           "lightblue",
           "lightblue",
           "lightblue",
           "lightblue",
           "lightblue",
           "lightblue",
           "lightblue",
           "lightblue",
           "lightblue",
           "lightblue",
           "lightblue",
           "lightblue",
           "lightblue",
           "lightblue",
           "lightblue",
           "lightblue",
           "lightblue",
           "lightblue",
           "lightblue",
           "lightblue",
           "lightblue",
           "lightblue",
           "lightblue",
           "lightblue",
           "lightblue",
           "lightblue",
           "lightblue",
           "lightblue",
           "lightblue",
           "lightblue",
           "lightblue",
           "lightblue",
           "lightblue",
           "lightblue",
           "lightblue",
           "lightblue",
           "lightblue",
           "lightblue",
           "lightblue",
           "lightblue",
           "lightblue",
           "lightblue",
           "lightblue",
           "lightblue",
           "lightblue",
           "lightblue",
           "lightblue",
           "lightblue",
           "lightblue",
           "lightblue",
           "lightblue"
          ]
         },
         "mode": "markers",
         "text": [
          "Leishmaniose",
          "Glukosurie",
          "Hypothermie",
          "Trichomoniasis",
          "Askaridose",
          "Akne",
          "Stuhlinkontinenz",
          "Toxoplasmose",
          "Schlafstörungen",
          "Migräne",
          "Osteomyelitis",
          "Zwangsstörung",
          "Virusmeningitis",
          "Enterobiasis",
          "Diphtherie",
          "Hypoparathyreoidismus",
          "Spontanabort",
          "Mesotheliom",
          "Pruritus",
          "Senilität",
          "Phlegmone",
          "Bartonellose",
          "Thyreoiditis",
          "Mikrozephalie",
          "Subarachnoidalblutung",
          "Zystitis",
          "Sichelzellenkrankheiten",
          "Nasenpolyp",
          "Urtikaria",
          "Hyperhidrose",
          "Polyarthrose",
          "Kardiomyopathie",
          "Polyhydramnion",
          "Thalassämie",
          "Vitamin-A-Mangel",
          "Zahnkaries",
          "Mumps",
          "Kwashiorkor-Marasmus",
          "Hydrozephalus",
          "Extrauteringravidität",
          "Frambösie",
          "Hypertrichose",
          "Essstörungen",
          "Skoliose",
          "Leptospirose",
          "Postpolio-Syndrom",
          "Filariose",
          "Sodbrennen",
          "Parapsoriasis",
          "Fleckfieber",
          "Spätsyphilis",
          "Onchozerkose",
          "Erstickung",
          "Miliartuberkulose",
          "Schulterläsionen",
          "Kachexie",
          "Viruskonjunktivitis",
          "Herzstillstand",
          "Volumenmangel",
          "Fibromatosen",
          "Trichuriasis",
          "Cushing-Syndrom",
          "Pocken",
          "Hypotonie",
          "Aszites",
          "Kandidose",
          "Dysphagie",
          "Erysipeloid",
          "Gonokokkeninfektion",
          "Tularämie",
          "Histoplasmose",
          "Trommelfellperforation",
          "Masern",
          "Lymphknotenvergrößerung",
          "Methämoglobinämie",
          "Syndaktylie",
          "Cholelithiasis",
          "Trichinellose",
          "Drakunkulose",
          "Kernikterus",
          "Alzheimer-Krankheit",
          "Ticstörungen",
          "Lungenembolie",
          "Pemphigoidkrankheiten",
          "Aspergillose",
          "Kokzidioidomykose",
          "Myiasis",
          "Harnverhaltung",
          "Sporotrichose",
          "Myositis",
          "Schizophrenie",
          "Post-COVID-19-Zustand",
          "Hirninfarkt",
          "Ösophagitis",
          "Vitamin-D-Mangel",
          "Zygomykose",
          "Gicht",
          "Psoriasis",
          "Spondylose",
          "Mehrlingsschwangerschaft",
          "Polydaktylie",
          "Harnröhrenstriktur",
          "Bronchiektasen",
          "Keratitis",
          "Endometriose",
          "Echinokokkose",
          "Lippenspalte",
          "Eisenmangelanämie",
          "Chorioretinitis",
          "Präeklampsie",
          "Hypospadie",
          "Skabies",
          "Otosklerose",
          "Streptokokkensepsis",
          "Cholezystitis",
          "Pneumothorax",
          "Emphysem",
          "Turner-Syndrom",
          "Iridozyklitis",
          "Rückenschmerzen",
          "Dystonie",
          "Husten",
          "Laktoseintoleranz",
          "Brucellose",
          "Kryptokokkose",
          "Schwangerschaftsdauer",
          "Eklampsie",
          "Sarkoidose",
          "Kopfschmerz",
          "Transportmittelunfall",
          "Amöbiasis",
          "Keuchhusten",
          "Herzinsuffizienz",
          "Amyloidose",
          "Pulmonalklappenkrankheiten",
          "Enzephalozele",
          "Lungenödem",
          "Pyothorax",
          "Chagas-Krankheit",
          "Rekonvaleszenz",
          "Viruswarzen",
          "Puerperalfieber",
          "Aktinomykose",
          "Peritonitis",
          "Pemphiguskrankheiten",
          "Gelbfieber",
          "Hakenwurm-Krankheit",
          "Epilepsie",
          "Pest",
          "Gaumenspalte",
          "Pleuraplaques",
          "Myzetom",
          "Rückfallfieber",
          "Peritonsillarabszess",
          "Vitamin-B12-Mangelanämie",
          "Strongyloidiasis",
          "Knochennekrose",
          "Extremitätenverlust",
          "Windeldermatitis",
          "Rattenbisskrankheiten",
          "Impetigo",
          "Q-Fieber",
          "Blastomykose",
          "Adipositas",
          "Listeriose",
          "Dialysebehandlung",
          "Taeniasis",
          "Frühsyphilis",
          "Ascorbinsäuremangel",
          "Nokardiose",
          "Kwashiorkor",
          "Reizdarmsyndrom",
          "Sehstörungen",
          "Netzhautgefäßverschluss",
          "Blasenmole",
          "Melanozytennävus",
          "Zystizerkose",
          "Kohlenbergarbeiter-Pneumokoniose",
          "Down-Syndrom",
          "Monozytenleukämie",
          "Dengue",
          "Prostatahyperplasie",
          "Konjunktivitis",
          "Cholera",
          "Polyneuritis",
          "Pfortaderthrombose",
          "Hyperaldosteronismus",
          "Folsäure-Mangelanämie",
          "Dermatomyositis-Polymyositis",
          "Radiodermatitis",
          "Parakokzidioidomykose",
          "Meningokokkeninfektion",
          "Rehabilitationsmaßnahmen",
          "Trachom",
          "Glaukom",
          "Vitiligo",
          "Affenpocken",
          "Rosazea",
          "Scharlach",
          "Zytomegalie",
          "Atherosklerose",
          "Pilonidalzyste",
          "Ösophagusvarizen",
          "Parkinson",
          "Tremor",
          "HIV",
          "AIDS",
          "Schlaganfall",
          "Hirninfarkt",
          "Appendix",
          "Wurmfortsatz",
          "Ballenzeh",
          "Plattfuß",
          "Erkältung",
          "Grippe"
         ],
         "x": [
          5.012118339538574,
          5.351265907287598,
          6.128635406494141,
          1.6886506080627441,
          4.687300205230713,
          13.684630393981934,
          -0.7817093729972839,
          0.6382437944412231,
          -10.669307708740234,
          13.265769004821777,
          -6.84260368347168,
          -9.706814765930176,
          -9.651744842529297,
          3.972137928009033,
          7.042713642120361,
          1.68231201171875,
          11.662434577941895,
          -0.3862599730491638,
          4.7760443687438965,
          -4.254335403442383,
          4.734715938568115,
          6.748060703277588,
          -6.902832984924316,
          3.2385072708129883,
          1.1840265989303589,
          -4.180210590362549,
          -3.85062313079834,
          7.243964672088623,
          5.13835334777832,
          8.252630233764648,
          5.2200469970703125,
          -0.9323322176933289,
          1.2507758140563965,
          2.3157007694244385,
          -1.3691062927246094,
          0.8320061564445496,
          13.348299026489258,
          3.254401683807373,
          2.6632089614868164,
          -3.897230386734009,
          6.620156288146973,
          7.2625322341918945,
          -10.481043815612793,
          9.822382926940918,
          4.931337356567383,
          -5.185795307159424,
          5.435093402862549,
          -2.0782711505889893,
          3.0487029552459717,
          -6.934848785400391,
          -0.08863555639982224,
          3.02052640914917,
          -7.040563106536865,
          2.852883815765381,
          7.529721260070801,
          4.777106285095215,
          -10.102940559387207,
          -3.3183696269989014,
          0.13317720592021942,
          -3.4609017372131348,
          1.9323652982711792,
          -5.672728061676025,
          12.423232078552246,
          6.183853626251221,
          5.130161285400391,
          6.740840911865234,
          6.376709938049316,
          10.223856925964355,
          -2.6325809955596924,
          2.4879531860351562,
          0.6347958445549011,
          -1.9202911853790283,
          6.442890167236328,
          0.3718264698982239,
          1.9068561792373657,
          -12.621623039245605,
          1.9394611120224,
          6.66377592086792,
          2.887119770050049,
          5.431683540344238,
          -2.65283465385437,
          -9.953338623046875,
          -9.042505264282227,
          -2.6576688289642334,
          5.151644229888916,
          1.2334473133087158,
          3.1285667419433594,
          9.74727725982666,
          5.183235168457031,
          -6.567657947540283,
          -8.587922096252441,
          -1.8535361289978027,
          -13.917695045471191,
          -8.081189155578613,
          -1.3898707628250122,
          1.4257993698120117,
          14.191250801086426,
          3.529374361038208,
          8.594995498657227,
          -5.909020900726318,
          -12.65273666381836,
          9.64899730682373,
          3.12772798538208,
          -7.886044502258301,
          3.7580924034118652,
          -0.30899789929389954,
          -11.712702751159668,
          0.8441630601882935,
          1.4160840511322021,
          3.3225433826446533,
          8.780406951904297,
          10.06619644165039,
          3.9351720809936523,
          -0.7950876355171204,
          -3.93100643157959,
          -5.31612491607666,
          8.104410171508789,
          -5.984899520874023,
          -8.253358840942383,
          -7.862772464752197,
          -2.535609006881714,
          11.053229331970215,
          -0.27552348375320435,
          6.778424263000488,
          -0.49194467067718506,
          -6.110374927520752,
          5.250641345977783,
          8.454096794128418,
          1.0130681991577148,
          -9.303043365478516,
          4.203742027282715,
          10.77370548248291,
          -3.137680768966675,
          2.633535861968994,
          -3.5663673877716064,
          2.505110025405884,
          -9.170489311218262,
          -5.336056709289551,
          -2.5133297443389893,
          1.4284003973007202,
          -10.590083122253418,
          -5.448390007019043,
          1.9930940866470337,
          -7.948127746582031,
          -2.7006618976593018,
          -6.760189056396484,
          -2.5726020336151123,
          4.071176052093506,
          13.32686996459961,
          -11.729662895202637,
          3.1166958808898926,
          3.2593436241149902,
          -7.628796577453613,
          1.6397117376327515,
          -0.6813772320747375,
          2.6489572525024414,
          10.913695335388184,
          -0.056904517114162445,
          -7.746046543121338,
          -3.2593140602111816,
          -2.4170162677764893,
          -6.018348693847656,
          1.717045545578003,
          12.139691352844238,
          5.32688570022583,
          0.4586380422115326,
          2.9009246826171875,
          -0.4118291437625885,
          0.35233646631240845,
          -0.5078635811805725,
          3.3978638648986816,
          -4.463705062866211,
          -9.960793495178223,
          -0.609191358089447,
          4.033888339996338,
          1.3628201484680176,
          1.464517593383789,
          0.27867668867111206,
          -5.828605651855469,
          1.780435562133789,
          8.582733154296875,
          2.6749496459960938,
          -10.287150382995605,
          0.07805172353982925,
          -6.594482898712158,
          -2.5271224975585938,
          7.425396919250488,
          0.9265417456626892,
          -6.622213840484619,
          -5.736370086669922,
          1.2464348077774048,
          -2.5713465213775635,
          7.940598011016846,
          6.524808883666992,
          6.071876525878906,
          -2.4213993549346924,
          12.159029960632324,
          4.933663845062256,
          -9.586682319641113,
          6.383543014526367,
          3.867870807647705,
          -2.6208243370056152,
          -8.063807487487793,
          11.921036720275879,
          9.379652976989746,
          15.677166938781738,
          15.71127700805664,
          -9.417119026184082,
          -13.918318748474121,
          12.941420555114746,
          -2.7002768516540527,
          -6.297389507293701,
          8.862874031066895,
          -7.022608280181885,
          13.916690826416016
         ],
         "y": [
          -10.689398765563965,
          -0.11561837047338486,
          4.312373161315918,
          12.35066032409668,
          -6.334177017211914,
          5.455899715423584,
          -1.3493518829345703,
          -14.677778244018555,
          -8.928997993469238,
          4.845080375671387,
          9.793192863464355,
          -9.660706520080566,
          9.537137031555176,
          13.21431827545166,
          2.8955955505371094,
          0.05324563756585121,
          8.470355987548828,
          -3.6834876537323,
          -0.9177178144454956,
          5.942770481109619,
          6.015089511871338,
          -7.926760673522949,
          8.60421085357666,
          -3.377591371536255,
          -0.01742936298251152,
          10.955463409423828,
          -3.077963352203369,
          5.337930679321289,
          -2.942157745361328,
          -5.963209629058838,
          -13.766261100769043,
          -9.210697174072266,
          1.1758043766021729,
          5.121458053588867,
          5.915090084075928,
          -10.332801818847656,
          3.572749614715576,
          0.20476722717285156,
          -2.911740779876709,
          5.4559326171875,
          6.954861640930176,
          -5.880621433258057,
          -8.250055313110352,
          -12.476357460021973,
          -12.311336517333984,
          2.887343168258667,
          -9.180594444274902,
          -1.5487890243530273,
          11.854497909545898,
          -0.6731014847755432,
          2.624359369277954,
          -8.489204406738281,
          -13.79533863067627,
          -5.375882148742676,
          -1.4199450016021729,
          1.6009126901626587,
          10.292976379394531,
          -11.17253303527832,
          6.817008972167969,
          -0.04296482354402542,
          12.177366256713867,
          2.711050271987915,
          -0.4415796995162964,
          4.460197925567627,
          -5.024049758911133,
          -9.833992004394531,
          2.495403528213501,
          -7.740872859954834,
          -6.562106132507324,
          5.596756935119629,
          -14.692232131958008,
          0.08770693838596344,
          -2.6534955501556396,
          -0.057475458830595016,
          4.912817001342773,
          4.023082733154297,
          10.478470802307129,
          -7.244714736938477,
          -6.0051751136779785,
          -2.409241199493408,
          3.067577838897705,
          -8.520588874816895,
          -5.922316551208496,
          -3.283567428588867,
          -6.135167598724365,
          -5.828456401824951,
          13.660624504089355,
          4.914162635803223,
          -7.752293109893799,
          11.1798095703125,
          3.321972131729126,
          4.501518249511719,
          -0.10561568289995193,
          5.889691352844238,
          5.932534217834473,
          -8.502696990966797,
          -3.598355531692505,
          12.274829864501953,
          -9.864368438720703,
          -4.496993541717529,
          4.032712459564209,
          5.683994770050049,
          7.629173278808594,
          11.846297264099121,
          -9.883996963500977,
          -6.627894401550293,
          -3.604010581970215,
          5.668787479400635,
          9.641331672668457,
          3.257808208465576,
          -4.202563762664795,
          -12.551802635192871,
          -8.085814476013184,
          -5.868052005767822,
          10.703030586242676,
          -7.699619293212891,
          0.9223122596740723,
          3.247959852218628,
          8.327923774719238,
          0.4495941698551178,
          11.260294914245605,
          1.4194223880767822,
          -2.3935203552246094,
          -11.573175430297852,
          -6.811188697814941,
          -4.594712257385254,
          2.692150115966797,
          -9.166218757629395,
          -3.683626651763916,
          -0.9239012598991394,
          10.957566261291504,
          1.4409692287445068,
          -10.71407413482666,
          -11.614169120788574,
          -3.645253896713257,
          -2.822077512741089,
          -6.101880073547363,
          -7.727604389190674,
          2.9988601207733154,
          -2.2935667037963867,
          8.753545761108398,
          -0.8903751373291016,
          -7.4835100173950195,
          10.930828094482422,
          -3.2256109714508057,
          -1.712477445602417,
          2.5581729412078857,
          3.5630786418914795,
          0.14330844581127167,
          -3.5945770740509033,
          -1.2003042697906494,
          15.195947647094727,
          -0.36469942331314087,
          -1.4424335956573486,
          4.978768825531006,
          10.863741874694824,
          -5.562263011932373,
          1.0483702421188354,
          9.746855735778809,
          -2.706805944442749,
          15.74134349822998,
          -0.6122303605079651,
          -7.784395694732666,
          -8.152872085571289,
          -10.247214317321777,
          -0.85575270652771,
          12.86428451538086,
          2.6402297019958496,
          4.582264423370361,
          -7.908331394195557,
          0.24309468269348145,
          1.6248761415481567,
          -8.548905372619629,
          0.12970054149627686,
          6.976634502410889,
          2.633585214614868,
          -9.442079544067383,
          -1.62090003490448,
          3.032003879547119,
          3.5304863452911377,
          2.663550615310669,
          1.6798044443130493,
          10.639533996582031,
          10.332300186157227,
          12.596644401550293,
          -0.05088995397090912,
          -4.874746799468994,
          4.492818832397461,
          9.408963203430176,
          9.189085006713867,
          -5.677177906036377,
          -6.516262531280518,
          9.264558792114258,
          13.288808822631836,
          -0.20891253650188446,
          15.701799392700195,
          -0.40418148040771484,
          8.029553413391113,
          2.581367015838623,
          1.470141053199768,
          -8.015461921691895,
          8.934895515441895,
          5.600956916809082,
          -1.7755037546157837,
          -1.452867865562439,
          0.02415500208735466,
          -0.6850597858428955,
          0.6784376502037048,
          -0.1052849218249321,
          1.4893146753311157,
          1.3653595447540283,
          -10.312012672424316,
          9.868576049804688,
          -13.78342056274414,
          -3.419106960296631
         ],
         "type": "scatter",
         "textposition": "top center"
        },
        {
         "marker": {
          "color": [
           "red",
           "red",
           "red",
           "red",
           "red",
           "red",
           "red",
           "red",
           "red",
           "red",
           "red",
           "red"
          ]
         },
         "mode": "markers+text",
         "text": [
          "Parkinson",
          "Tremor",
          "HIV",
          "AIDS",
          "Schlaganfall",
          "Hirninfarkt",
          "Appendix",
          "Wurmfortsatz",
          "Ballenzeh",
          "Plattfuß",
          "Erkältung",
          "Grippe"
         ],
         "x": [
          11.921036720275879,
          9.379652976989746,
          15.677166938781738,
          15.71127700805664,
          -9.417119026184082,
          -13.917695045471191,
          12.941420555114746,
          -2.7002768516540527,
          -6.297389507293701,
          8.862874031066895,
          -7.022608280181885,
          13.916690826416016
         ],
         "y": [
          -1.7755037546157837,
          -1.452867865562439,
          0.02415500208735466,
          -0.6850597858428955,
          0.6784376502037048,
          -0.10561568289995193,
          1.4893146753311157,
          1.3653595447540283,
          -10.312012672424316,
          9.868576049804688,
          -13.78342056274414,
          -3.419106960296631
         ],
         "type": "scatter",
         "textposition": "top center"
        }
       ],
       "layout": {
        "template": {
         "data": {
          "histogram2dcontour": [
           {
            "type": "histogram2dcontour",
            "colorbar": {
             "outlinewidth": 0,
             "ticks": ""
            },
            "colorscale": [
             [
              0.0,
              "#0d0887"
             ],
             [
              0.1111111111111111,
              "#46039f"
             ],
             [
              0.2222222222222222,
              "#7201a8"
             ],
             [
              0.3333333333333333,
              "#9c179e"
             ],
             [
              0.4444444444444444,
              "#bd3786"
             ],
             [
              0.5555555555555556,
              "#d8576b"
             ],
             [
              0.6666666666666666,
              "#ed7953"
             ],
             [
              0.7777777777777778,
              "#fb9f3a"
             ],
             [
              0.8888888888888888,
              "#fdca26"
             ],
             [
              1.0,
              "#f0f921"
             ]
            ]
           }
          ],
          "choropleth": [
           {
            "type": "choropleth",
            "colorbar": {
             "outlinewidth": 0,
             "ticks": ""
            }
           }
          ],
          "histogram2d": [
           {
            "type": "histogram2d",
            "colorbar": {
             "outlinewidth": 0,
             "ticks": ""
            },
            "colorscale": [
             [
              0.0,
              "#0d0887"
             ],
             [
              0.1111111111111111,
              "#46039f"
             ],
             [
              0.2222222222222222,
              "#7201a8"
             ],
             [
              0.3333333333333333,
              "#9c179e"
             ],
             [
              0.4444444444444444,
              "#bd3786"
             ],
             [
              0.5555555555555556,
              "#d8576b"
             ],
             [
              0.6666666666666666,
              "#ed7953"
             ],
             [
              0.7777777777777778,
              "#fb9f3a"
             ],
             [
              0.8888888888888888,
              "#fdca26"
             ],
             [
              1.0,
              "#f0f921"
             ]
            ]
           }
          ],
          "heatmap": [
           {
            "type": "heatmap",
            "colorbar": {
             "outlinewidth": 0,
             "ticks": ""
            },
            "colorscale": [
             [
              0.0,
              "#0d0887"
             ],
             [
              0.1111111111111111,
              "#46039f"
             ],
             [
              0.2222222222222222,
              "#7201a8"
             ],
             [
              0.3333333333333333,
              "#9c179e"
             ],
             [
              0.4444444444444444,
              "#bd3786"
             ],
             [
              0.5555555555555556,
              "#d8576b"
             ],
             [
              0.6666666666666666,
              "#ed7953"
             ],
             [
              0.7777777777777778,
              "#fb9f3a"
             ],
             [
              0.8888888888888888,
              "#fdca26"
             ],
             [
              1.0,
              "#f0f921"
             ]
            ]
           }
          ],
          "heatmapgl": [
           {
            "type": "heatmapgl",
            "colorbar": {
             "outlinewidth": 0,
             "ticks": ""
            },
            "colorscale": [
             [
              0.0,
              "#0d0887"
             ],
             [
              0.1111111111111111,
              "#46039f"
             ],
             [
              0.2222222222222222,
              "#7201a8"
             ],
             [
              0.3333333333333333,
              "#9c179e"
             ],
             [
              0.4444444444444444,
              "#bd3786"
             ],
             [
              0.5555555555555556,
              "#d8576b"
             ],
             [
              0.6666666666666666,
              "#ed7953"
             ],
             [
              0.7777777777777778,
              "#fb9f3a"
             ],
             [
              0.8888888888888888,
              "#fdca26"
             ],
             [
              1.0,
              "#f0f921"
             ]
            ]
           }
          ],
          "contourcarpet": [
           {
            "type": "contourcarpet",
            "colorbar": {
             "outlinewidth": 0,
             "ticks": ""
            }
           }
          ],
          "contour": [
           {
            "type": "contour",
            "colorbar": {
             "outlinewidth": 0,
             "ticks": ""
            },
            "colorscale": [
             [
              0.0,
              "#0d0887"
             ],
             [
              0.1111111111111111,
              "#46039f"
             ],
             [
              0.2222222222222222,
              "#7201a8"
             ],
             [
              0.3333333333333333,
              "#9c179e"
             ],
             [
              0.4444444444444444,
              "#bd3786"
             ],
             [
              0.5555555555555556,
              "#d8576b"
             ],
             [
              0.6666666666666666,
              "#ed7953"
             ],
             [
              0.7777777777777778,
              "#fb9f3a"
             ],
             [
              0.8888888888888888,
              "#fdca26"
             ],
             [
              1.0,
              "#f0f921"
             ]
            ]
           }
          ],
          "surface": [
           {
            "type": "surface",
            "colorbar": {
             "outlinewidth": 0,
             "ticks": ""
            },
            "colorscale": [
             [
              0.0,
              "#0d0887"
             ],
             [
              0.1111111111111111,
              "#46039f"
             ],
             [
              0.2222222222222222,
              "#7201a8"
             ],
             [
              0.3333333333333333,
              "#9c179e"
             ],
             [
              0.4444444444444444,
              "#bd3786"
             ],
             [
              0.5555555555555556,
              "#d8576b"
             ],
             [
              0.6666666666666666,
              "#ed7953"
             ],
             [
              0.7777777777777778,
              "#fb9f3a"
             ],
             [
              0.8888888888888888,
              "#fdca26"
             ],
             [
              1.0,
              "#f0f921"
             ]
            ]
           }
          ],
          "mesh3d": [
           {
            "type": "mesh3d",
            "colorbar": {
             "outlinewidth": 0,
             "ticks": ""
            }
           }
          ],
          "scatter": [
           {
            "fillpattern": {
             "fillmode": "overlay",
             "size": 10,
             "solidity": 0.2
            },
            "type": "scatter"
           }
          ],
          "parcoords": [
           {
            "type": "parcoords",
            "line": {
             "colorbar": {
              "outlinewidth": 0,
              "ticks": ""
             }
            }
           }
          ],
          "scatterpolargl": [
           {
            "type": "scatterpolargl",
            "marker": {
             "colorbar": {
              "outlinewidth": 0,
              "ticks": ""
             }
            }
           }
          ],
          "bar": [
           {
            "error_x": {
             "color": "#2a3f5f"
            },
            "error_y": {
             "color": "#2a3f5f"
            },
            "marker": {
             "line": {
              "color": "#E5ECF6",
              "width": 0.5
             },
             "pattern": {
              "fillmode": "overlay",
              "size": 10,
              "solidity": 0.2
             }
            },
            "type": "bar"
           }
          ],
          "scattergeo": [
           {
            "type": "scattergeo",
            "marker": {
             "colorbar": {
              "outlinewidth": 0,
              "ticks": ""
             }
            }
           }
          ],
          "scatterpolar": [
           {
            "type": "scatterpolar",
            "marker": {
             "colorbar": {
              "outlinewidth": 0,
              "ticks": ""
             }
            }
           }
          ],
          "histogram": [
           {
            "marker": {
             "pattern": {
              "fillmode": "overlay",
              "size": 10,
              "solidity": 0.2
             }
            },
            "type": "histogram"
           }
          ],
          "scattergl": [
           {
            "type": "scattergl",
            "marker": {
             "colorbar": {
              "outlinewidth": 0,
              "ticks": ""
             }
            }
           }
          ],
          "scatter3d": [
           {
            "type": "scatter3d",
            "line": {
             "colorbar": {
              "outlinewidth": 0,
              "ticks": ""
             }
            },
            "marker": {
             "colorbar": {
              "outlinewidth": 0,
              "ticks": ""
             }
            }
           }
          ],
          "scattermapbox": [
           {
            "type": "scattermapbox",
            "marker": {
             "colorbar": {
              "outlinewidth": 0,
              "ticks": ""
             }
            }
           }
          ],
          "scatterternary": [
           {
            "type": "scatterternary",
            "marker": {
             "colorbar": {
              "outlinewidth": 0,
              "ticks": ""
             }
            }
           }
          ],
          "scattercarpet": [
           {
            "type": "scattercarpet",
            "marker": {
             "colorbar": {
              "outlinewidth": 0,
              "ticks": ""
             }
            }
           }
          ],
          "carpet": [
           {
            "aaxis": {
             "endlinecolor": "#2a3f5f",
             "gridcolor": "white",
             "linecolor": "white",
             "minorgridcolor": "white",
             "startlinecolor": "#2a3f5f"
            },
            "baxis": {
             "endlinecolor": "#2a3f5f",
             "gridcolor": "white",
             "linecolor": "white",
             "minorgridcolor": "white",
             "startlinecolor": "#2a3f5f"
            },
            "type": "carpet"
           }
          ],
          "table": [
           {
            "cells": {
             "fill": {
              "color": "#EBF0F8"
             },
             "line": {
              "color": "white"
             }
            },
            "header": {
             "fill": {
              "color": "#C8D4E3"
             },
             "line": {
              "color": "white"
             }
            },
            "type": "table"
           }
          ],
          "barpolar": [
           {
            "marker": {
             "line": {
              "color": "#E5ECF6",
              "width": 0.5
             },
             "pattern": {
              "fillmode": "overlay",
              "size": 10,
              "solidity": 0.2
             }
            },
            "type": "barpolar"
           }
          ],
          "pie": [
           {
            "automargin": true,
            "type": "pie"
           }
          ]
         },
         "layout": {
          "autotypenumbers": "strict",
          "colorway": [
           "#636efa",
           "#EF553B",
           "#00cc96",
           "#ab63fa",
           "#FFA15A",
           "#19d3f3",
           "#FF6692",
           "#B6E880",
           "#FF97FF",
           "#FECB52"
          ],
          "font": {
           "color": "#2a3f5f"
          },
          "hovermode": "closest",
          "hoverlabel": {
           "align": "left"
          },
          "paper_bgcolor": "white",
          "plot_bgcolor": "#E5ECF6",
          "polar": {
           "bgcolor": "#E5ECF6",
           "angularaxis": {
            "gridcolor": "white",
            "linecolor": "white",
            "ticks": ""
           },
           "radialaxis": {
            "gridcolor": "white",
            "linecolor": "white",
            "ticks": ""
           }
          },
          "ternary": {
           "bgcolor": "#E5ECF6",
           "aaxis": {
            "gridcolor": "white",
            "linecolor": "white",
            "ticks": ""
           },
           "baxis": {
            "gridcolor": "white",
            "linecolor": "white",
            "ticks": ""
           },
           "caxis": {
            "gridcolor": "white",
            "linecolor": "white",
            "ticks": ""
           }
          },
          "coloraxis": {
           "colorbar": {
            "outlinewidth": 0,
            "ticks": ""
           }
          },
          "colorscale": {
           "sequential": [
            [
             0.0,
             "#0d0887"
            ],
            [
             0.1111111111111111,
             "#46039f"
            ],
            [
             0.2222222222222222,
             "#7201a8"
            ],
            [
             0.3333333333333333,
             "#9c179e"
            ],
            [
             0.4444444444444444,
             "#bd3786"
            ],
            [
             0.5555555555555556,
             "#d8576b"
            ],
            [
             0.6666666666666666,
             "#ed7953"
            ],
            [
             0.7777777777777778,
             "#fb9f3a"
            ],
            [
             0.8888888888888888,
             "#fdca26"
            ],
            [
             1.0,
             "#f0f921"
            ]
           ],
           "sequentialminus": [
            [
             0.0,
             "#0d0887"
            ],
            [
             0.1111111111111111,
             "#46039f"
            ],
            [
             0.2222222222222222,
             "#7201a8"
            ],
            [
             0.3333333333333333,
             "#9c179e"
            ],
            [
             0.4444444444444444,
             "#bd3786"
            ],
            [
             0.5555555555555556,
             "#d8576b"
            ],
            [
             0.6666666666666666,
             "#ed7953"
            ],
            [
             0.7777777777777778,
             "#fb9f3a"
            ],
            [
             0.8888888888888888,
             "#fdca26"
            ],
            [
             1.0,
             "#f0f921"
            ]
           ],
           "diverging": [
            [
             0,
             "#8e0152"
            ],
            [
             0.1,
             "#c51b7d"
            ],
            [
             0.2,
             "#de77ae"
            ],
            [
             0.3,
             "#f1b6da"
            ],
            [
             0.4,
             "#fde0ef"
            ],
            [
             0.5,
             "#f7f7f7"
            ],
            [
             0.6,
             "#e6f5d0"
            ],
            [
             0.7,
             "#b8e186"
            ],
            [
             0.8,
             "#7fbc41"
            ],
            [
             0.9,
             "#4d9221"
            ],
            [
             1,
             "#276419"
            ]
           ]
          },
          "xaxis": {
           "gridcolor": "white",
           "linecolor": "white",
           "ticks": "",
           "title": {
            "standoff": 15
           },
           "zerolinecolor": "white",
           "automargin": true,
           "zerolinewidth": 2
          },
          "yaxis": {
           "gridcolor": "white",
           "linecolor": "white",
           "ticks": "",
           "title": {
            "standoff": 15
           },
           "zerolinecolor": "white",
           "automargin": true,
           "zerolinewidth": 2
          },
          "scene": {
           "xaxis": {
            "backgroundcolor": "#E5ECF6",
            "gridcolor": "white",
            "linecolor": "white",
            "showbackground": true,
            "ticks": "",
            "zerolinecolor": "white",
            "gridwidth": 2
           },
           "yaxis": {
            "backgroundcolor": "#E5ECF6",
            "gridcolor": "white",
            "linecolor": "white",
            "showbackground": true,
            "ticks": "",
            "zerolinecolor": "white",
            "gridwidth": 2
           },
           "zaxis": {
            "backgroundcolor": "#E5ECF6",
            "gridcolor": "white",
            "linecolor": "white",
            "showbackground": true,
            "ticks": "",
            "zerolinecolor": "white",
            "gridwidth": 2
           }
          },
          "shapedefaults": {
           "line": {
            "color": "#2a3f5f"
           }
          },
          "annotationdefaults": {
           "arrowcolor": "#2a3f5f",
           "arrowhead": 0,
           "arrowwidth": 1
          },
          "geo": {
           "bgcolor": "white",
           "landcolor": "#E5ECF6",
           "subunitcolor": "white",
           "showland": true,
           "showlakes": true,
           "lakecolor": "white"
          },
          "title": {
           "x": 0.05
          },
          "mapbox": {
           "style": "light"
          }
         }
        },
        "title": {
         "text": "ICD10 diseases german word embeddings"
        },
        "hovermode": "closest",
        "showlegend": false,
        "width": 800,
        "height": 800
       },
       "config": {
        "plotlyServerURL": "https://plot.ly"
       }
      },
      "text/html": "<div>                            <div id=\"614a4587-2c54-4dfe-90de-0243e0dec3a8\" class=\"plotly-graph-div\" style=\"height:800px; width:800px;\"></div>            <script type=\"text/javascript\">                require([\"plotly\"], function(Plotly) {                    window.PLOTLYENV=window.PLOTLYENV || {};                                    if (document.getElementById(\"614a4587-2c54-4dfe-90de-0243e0dec3a8\")) {                    Plotly.newPlot(                        \"614a4587-2c54-4dfe-90de-0243e0dec3a8\",                        [{\"marker\":{\"color\":[\"lightblue\",\"lightblue\",\"lightblue\",\"lightblue\",\"lightblue\",\"lightblue\",\"lightblue\",\"lightblue\",\"lightblue\",\"lightblue\",\"lightblue\",\"lightblue\",\"lightblue\",\"lightblue\",\"lightblue\",\"lightblue\",\"lightblue\",\"lightblue\",\"lightblue\",\"lightblue\",\"lightblue\",\"lightblue\",\"lightblue\",\"lightblue\",\"lightblue\",\"lightblue\",\"lightblue\",\"lightblue\",\"lightblue\",\"lightblue\",\"lightblue\",\"lightblue\",\"lightblue\",\"lightblue\",\"lightblue\",\"lightblue\",\"lightblue\",\"lightblue\",\"lightblue\",\"lightblue\",\"lightblue\",\"lightblue\",\"lightblue\",\"lightblue\",\"lightblue\",\"lightblue\",\"lightblue\",\"lightblue\",\"lightblue\",\"lightblue\",\"lightblue\",\"lightblue\",\"lightblue\",\"lightblue\",\"lightblue\",\"lightblue\",\"lightblue\",\"lightblue\",\"lightblue\",\"lightblue\",\"lightblue\",\"lightblue\",\"lightblue\",\"lightblue\",\"lightblue\",\"lightblue\",\"lightblue\",\"lightblue\",\"lightblue\",\"lightblue\",\"lightblue\",\"lightblue\",\"lightblue\",\"lightblue\",\"lightblue\",\"lightblue\",\"lightblue\",\"lightblue\",\"lightblue\",\"lightblue\",\"lightblue\",\"lightblue\",\"lightblue\",\"lightblue\",\"lightblue\",\"lightblue\",\"lightblue\",\"lightblue\",\"lightblue\",\"lightblue\",\"lightblue\",\"lightblue\",\"lightblue\",\"lightblue\",\"lightblue\",\"lightblue\",\"lightblue\",\"lightblue\",\"lightblue\",\"lightblue\",\"lightblue\",\"lightblue\",\"lightblue\",\"lightblue\",\"lightblue\",\"lightblue\",\"lightblue\",\"lightblue\",\"lightblue\",\"lightblue\",\"lightblue\",\"lightblue\",\"lightblue\",\"lightblue\",\"lightblue\",\"lightblue\",\"lightblue\",\"lightblue\",\"lightblue\",\"lightblue\",\"lightblue\",\"lightblue\",\"lightblue\",\"lightblue\",\"lightblue\",\"lightblue\",\"lightblue\",\"lightblue\",\"lightblue\",\"lightblue\",\"lightblue\",\"lightblue\",\"lightblue\",\"lightblue\",\"lightblue\",\"lightblue\",\"lightblue\",\"lightblue\",\"lightblue\",\"lightblue\",\"lightblue\",\"lightblue\",\"lightblue\",\"lightblue\",\"lightblue\",\"lightblue\",\"lightblue\",\"lightblue\",\"lightblue\",\"lightblue\",\"lightblue\",\"lightblue\",\"lightblue\",\"lightblue\",\"lightblue\",\"lightblue\",\"lightblue\",\"lightblue\",\"lightblue\",\"lightblue\",\"lightblue\",\"lightblue\",\"lightblue\",\"lightblue\",\"lightblue\",\"lightblue\",\"lightblue\",\"lightblue\",\"lightblue\",\"lightblue\",\"lightblue\",\"lightblue\",\"lightblue\",\"lightblue\",\"lightblue\",\"lightblue\",\"lightblue\",\"lightblue\",\"lightblue\",\"lightblue\",\"lightblue\",\"lightblue\",\"lightblue\",\"lightblue\",\"lightblue\",\"lightblue\",\"lightblue\",\"lightblue\",\"lightblue\",\"lightblue\",\"lightblue\",\"lightblue\",\"lightblue\",\"lightblue\",\"lightblue\",\"lightblue\",\"lightblue\",\"lightblue\",\"lightblue\",\"lightblue\",\"lightblue\",\"lightblue\",\"lightblue\",\"lightblue\",\"lightblue\",\"lightblue\",\"lightblue\",\"lightblue\",\"lightblue\",\"lightblue\",\"lightblue\",\"lightblue\",\"lightblue\",\"lightblue\",\"lightblue\"]},\"mode\":\"markers\",\"text\":[\"Leishmaniose\",\"Glukosurie\",\"Hypothermie\",\"Trichomoniasis\",\"Askaridose\",\"Akne\",\"Stuhlinkontinenz\",\"Toxoplasmose\",\"Schlafst\\u00f6rungen\",\"Migr\\u00e4ne\",\"Osteomyelitis\",\"Zwangsst\\u00f6rung\",\"Virusmeningitis\",\"Enterobiasis\",\"Diphtherie\",\"Hypoparathyreoidismus\",\"Spontanabort\",\"Mesotheliom\",\"Pruritus\",\"Senilit\\u00e4t\",\"Phlegmone\",\"Bartonellose\",\"Thyreoiditis\",\"Mikrozephalie\",\"Subarachnoidalblutung\",\"Zystitis\",\"Sichelzellenkrankheiten\",\"Nasenpolyp\",\"Urtikaria\",\"Hyperhidrose\",\"Polyarthrose\",\"Kardiomyopathie\",\"Polyhydramnion\",\"Thalass\\u00e4mie\",\"Vitamin-A-Mangel\",\"Zahnkaries\",\"Mumps\",\"Kwashiorkor-Marasmus\",\"Hydrozephalus\",\"Extrauteringravidit\\u00e4t\",\"Framb\\u00f6sie\",\"Hypertrichose\",\"Essst\\u00f6rungen\",\"Skoliose\",\"Leptospirose\",\"Postpolio-Syndrom\",\"Filariose\",\"Sodbrennen\",\"Parapsoriasis\",\"Fleckfieber\",\"Sp\\u00e4tsyphilis\",\"Onchozerkose\",\"Erstickung\",\"Miliartuberkulose\",\"Schulterl\\u00e4sionen\",\"Kachexie\",\"Viruskonjunktivitis\",\"Herzstillstand\",\"Volumenmangel\",\"Fibromatosen\",\"Trichuriasis\",\"Cushing-Syndrom\",\"Pocken\",\"Hypotonie\",\"Aszites\",\"Kandidose\",\"Dysphagie\",\"Erysipeloid\",\"Gonokokkeninfektion\",\"Tular\\u00e4mie\",\"Histoplasmose\",\"Trommelfellperforation\",\"Masern\",\"Lymphknotenvergr\\u00f6\\u00dferung\",\"Meth\\u00e4moglobin\\u00e4mie\",\"Syndaktylie\",\"Cholelithiasis\",\"Trichinellose\",\"Drakunkulose\",\"Kernikterus\",\"Alzheimer-Krankheit\",\"Ticst\\u00f6rungen\",\"Lungenembolie\",\"Pemphigoidkrankheiten\",\"Aspergillose\",\"Kokzidioidomykose\",\"Myiasis\",\"Harnverhaltung\",\"Sporotrichose\",\"Myositis\",\"Schizophrenie\",\"Post-COVID-19-Zustand\",\"Hirninfarkt\",\"\\u00d6sophagitis\",\"Vitamin-D-Mangel\",\"Zygomykose\",\"Gicht\",\"Psoriasis\",\"Spondylose\",\"Mehrlingsschwangerschaft\",\"Polydaktylie\",\"Harnr\\u00f6hrenstriktur\",\"Bronchiektasen\",\"Keratitis\",\"Endometriose\",\"Echinokokkose\",\"Lippenspalte\",\"Eisenmangelan\\u00e4mie\",\"Chorioretinitis\",\"Pr\\u00e4eklampsie\",\"Hypospadie\",\"Skabies\",\"Otosklerose\",\"Streptokokkensepsis\",\"Cholezystitis\",\"Pneumothorax\",\"Emphysem\",\"Turner-Syndrom\",\"Iridozyklitis\",\"R\\u00fcckenschmerzen\",\"Dystonie\",\"Husten\",\"Laktoseintoleranz\",\"Brucellose\",\"Kryptokokkose\",\"Schwangerschaftsdauer\",\"Eklampsie\",\"Sarkoidose\",\"Kopfschmerz\",\"Transportmittelunfall\",\"Am\\u00f6biasis\",\"Keuchhusten\",\"Herzinsuffizienz\",\"Amyloidose\",\"Pulmonalklappenkrankheiten\",\"Enzephalozele\",\"Lungen\\u00f6dem\",\"Pyothorax\",\"Chagas-Krankheit\",\"Rekonvaleszenz\",\"Viruswarzen\",\"Puerperalfieber\",\"Aktinomykose\",\"Peritonitis\",\"Pemphiguskrankheiten\",\"Gelbfieber\",\"Hakenwurm-Krankheit\",\"Epilepsie\",\"Pest\",\"Gaumenspalte\",\"Pleuraplaques\",\"Myzetom\",\"R\\u00fcckfallfieber\",\"Peritonsillarabszess\",\"Vitamin-B12-Mangelan\\u00e4mie\",\"Strongyloidiasis\",\"Knochennekrose\",\"Extremit\\u00e4tenverlust\",\"Windeldermatitis\",\"Rattenbisskrankheiten\",\"Impetigo\",\"Q-Fieber\",\"Blastomykose\",\"Adipositas\",\"Listeriose\",\"Dialysebehandlung\",\"Taeniasis\",\"Fr\\u00fchsyphilis\",\"Ascorbins\\u00e4uremangel\",\"Nokardiose\",\"Kwashiorkor\",\"Reizdarmsyndrom\",\"Sehst\\u00f6rungen\",\"Netzhautgef\\u00e4\\u00dfverschluss\",\"Blasenmole\",\"Melanozytenn\\u00e4vus\",\"Zystizerkose\",\"Kohlenbergarbeiter-Pneumokoniose\",\"Down-Syndrom\",\"Monozytenleuk\\u00e4mie\",\"Dengue\",\"Prostatahyperplasie\",\"Konjunktivitis\",\"Cholera\",\"Polyneuritis\",\"Pfortaderthrombose\",\"Hyperaldosteronismus\",\"Fols\\u00e4ure-Mangelan\\u00e4mie\",\"Dermatomyositis-Polymyositis\",\"Radiodermatitis\",\"Parakokzidioidomykose\",\"Meningokokkeninfektion\",\"Rehabilitationsma\\u00dfnahmen\",\"Trachom\",\"Glaukom\",\"Vitiligo\",\"Affenpocken\",\"Rosazea\",\"Scharlach\",\"Zytomegalie\",\"Atherosklerose\",\"Pilonidalzyste\",\"\\u00d6sophagusvarizen\",\"Parkinson\",\"Tremor\",\"HIV\",\"AIDS\",\"Schlaganfall\",\"Hirninfarkt\",\"Appendix\",\"Wurmfortsatz\",\"Ballenzeh\",\"Plattfu\\u00df\",\"Erk\\u00e4ltung\",\"Grippe\"],\"x\":[5.012118339538574,5.351265907287598,6.128635406494141,1.6886506080627441,4.687300205230713,13.684630393981934,-0.7817093729972839,0.6382437944412231,-10.669307708740234,13.265769004821777,-6.84260368347168,-9.706814765930176,-9.651744842529297,3.972137928009033,7.042713642120361,1.68231201171875,11.662434577941895,-0.3862599730491638,4.7760443687438965,-4.254335403442383,4.734715938568115,6.748060703277588,-6.902832984924316,3.2385072708129883,1.1840265989303589,-4.180210590362549,-3.85062313079834,7.243964672088623,5.13835334777832,8.252630233764648,5.2200469970703125,-0.9323322176933289,1.2507758140563965,2.3157007694244385,-1.3691062927246094,0.8320061564445496,13.348299026489258,3.254401683807373,2.6632089614868164,-3.897230386734009,6.620156288146973,7.2625322341918945,-10.481043815612793,9.822382926940918,4.931337356567383,-5.185795307159424,5.435093402862549,-2.0782711505889893,3.0487029552459717,-6.934848785400391,-0.08863555639982224,3.02052640914917,-7.040563106536865,2.852883815765381,7.529721260070801,4.777106285095215,-10.102940559387207,-3.3183696269989014,0.13317720592021942,-3.4609017372131348,1.9323652982711792,-5.672728061676025,12.423232078552246,6.183853626251221,5.130161285400391,6.740840911865234,6.376709938049316,10.223856925964355,-2.6325809955596924,2.4879531860351562,0.6347958445549011,-1.9202911853790283,6.442890167236328,0.3718264698982239,1.9068561792373657,-12.621623039245605,1.9394611120224,6.66377592086792,2.887119770050049,5.431683540344238,-2.65283465385437,-9.953338623046875,-9.042505264282227,-2.6576688289642334,5.151644229888916,1.2334473133087158,3.1285667419433594,9.74727725982666,5.183235168457031,-6.567657947540283,-8.587922096252441,-1.8535361289978027,-13.917695045471191,-8.081189155578613,-1.3898707628250122,1.4257993698120117,14.191250801086426,3.529374361038208,8.594995498657227,-5.909020900726318,-12.65273666381836,9.64899730682373,3.12772798538208,-7.886044502258301,3.7580924034118652,-0.30899789929389954,-11.712702751159668,0.8441630601882935,1.4160840511322021,3.3225433826446533,8.780406951904297,10.06619644165039,3.9351720809936523,-0.7950876355171204,-3.93100643157959,-5.31612491607666,8.104410171508789,-5.984899520874023,-8.253358840942383,-7.862772464752197,-2.535609006881714,11.053229331970215,-0.27552348375320435,6.778424263000488,-0.49194467067718506,-6.110374927520752,5.250641345977783,8.454096794128418,1.0130681991577148,-9.303043365478516,4.203742027282715,10.77370548248291,-3.137680768966675,2.633535861968994,-3.5663673877716064,2.505110025405884,-9.170489311218262,-5.336056709289551,-2.5133297443389893,1.4284003973007202,-10.590083122253418,-5.448390007019043,1.9930940866470337,-7.948127746582031,-2.7006618976593018,-6.760189056396484,-2.5726020336151123,4.071176052093506,13.32686996459961,-11.729662895202637,3.1166958808898926,3.2593436241149902,-7.628796577453613,1.6397117376327515,-0.6813772320747375,2.6489572525024414,10.913695335388184,-0.056904517114162445,-7.746046543121338,-3.2593140602111816,-2.4170162677764893,-6.018348693847656,1.717045545578003,12.139691352844238,5.32688570022583,0.4586380422115326,2.9009246826171875,-0.4118291437625885,0.35233646631240845,-0.5078635811805725,3.3978638648986816,-4.463705062866211,-9.960793495178223,-0.609191358089447,4.033888339996338,1.3628201484680176,1.464517593383789,0.27867668867111206,-5.828605651855469,1.780435562133789,8.582733154296875,2.6749496459960938,-10.287150382995605,0.07805172353982925,-6.594482898712158,-2.5271224975585938,7.425396919250488,0.9265417456626892,-6.622213840484619,-5.736370086669922,1.2464348077774048,-2.5713465213775635,7.940598011016846,6.524808883666992,6.071876525878906,-2.4213993549346924,12.159029960632324,4.933663845062256,-9.586682319641113,6.383543014526367,3.867870807647705,-2.6208243370056152,-8.063807487487793,11.921036720275879,9.379652976989746,15.677166938781738,15.71127700805664,-9.417119026184082,-13.918318748474121,12.941420555114746,-2.7002768516540527,-6.297389507293701,8.862874031066895,-7.022608280181885,13.916690826416016],\"y\":[-10.689398765563965,-0.11561837047338486,4.312373161315918,12.35066032409668,-6.334177017211914,5.455899715423584,-1.3493518829345703,-14.677778244018555,-8.928997993469238,4.845080375671387,9.793192863464355,-9.660706520080566,9.537137031555176,13.21431827545166,2.8955955505371094,0.05324563756585121,8.470355987548828,-3.6834876537323,-0.9177178144454956,5.942770481109619,6.015089511871338,-7.926760673522949,8.60421085357666,-3.377591371536255,-0.01742936298251152,10.955463409423828,-3.077963352203369,5.337930679321289,-2.942157745361328,-5.963209629058838,-13.766261100769043,-9.210697174072266,1.1758043766021729,5.121458053588867,5.915090084075928,-10.332801818847656,3.572749614715576,0.20476722717285156,-2.911740779876709,5.4559326171875,6.954861640930176,-5.880621433258057,-8.250055313110352,-12.476357460021973,-12.311336517333984,2.887343168258667,-9.180594444274902,-1.5487890243530273,11.854497909545898,-0.6731014847755432,2.624359369277954,-8.489204406738281,-13.79533863067627,-5.375882148742676,-1.4199450016021729,1.6009126901626587,10.292976379394531,-11.17253303527832,6.817008972167969,-0.04296482354402542,12.177366256713867,2.711050271987915,-0.4415796995162964,4.460197925567627,-5.024049758911133,-9.833992004394531,2.495403528213501,-7.740872859954834,-6.562106132507324,5.596756935119629,-14.692232131958008,0.08770693838596344,-2.6534955501556396,-0.057475458830595016,4.912817001342773,4.023082733154297,10.478470802307129,-7.244714736938477,-6.0051751136779785,-2.409241199493408,3.067577838897705,-8.520588874816895,-5.922316551208496,-3.283567428588867,-6.135167598724365,-5.828456401824951,13.660624504089355,4.914162635803223,-7.752293109893799,11.1798095703125,3.321972131729126,4.501518249511719,-0.10561568289995193,5.889691352844238,5.932534217834473,-8.502696990966797,-3.598355531692505,12.274829864501953,-9.864368438720703,-4.496993541717529,4.032712459564209,5.683994770050049,7.629173278808594,11.846297264099121,-9.883996963500977,-6.627894401550293,-3.604010581970215,5.668787479400635,9.641331672668457,3.257808208465576,-4.202563762664795,-12.551802635192871,-8.085814476013184,-5.868052005767822,10.703030586242676,-7.699619293212891,0.9223122596740723,3.247959852218628,8.327923774719238,0.4495941698551178,11.260294914245605,1.4194223880767822,-2.3935203552246094,-11.573175430297852,-6.811188697814941,-4.594712257385254,2.692150115966797,-9.166218757629395,-3.683626651763916,-0.9239012598991394,10.957566261291504,1.4409692287445068,-10.71407413482666,-11.614169120788574,-3.645253896713257,-2.822077512741089,-6.101880073547363,-7.727604389190674,2.9988601207733154,-2.2935667037963867,8.753545761108398,-0.8903751373291016,-7.4835100173950195,10.930828094482422,-3.2256109714508057,-1.712477445602417,2.5581729412078857,3.5630786418914795,0.14330844581127167,-3.5945770740509033,-1.2003042697906494,15.195947647094727,-0.36469942331314087,-1.4424335956573486,4.978768825531006,10.863741874694824,-5.562263011932373,1.0483702421188354,9.746855735778809,-2.706805944442749,15.74134349822998,-0.6122303605079651,-7.784395694732666,-8.152872085571289,-10.247214317321777,-0.85575270652771,12.86428451538086,2.6402297019958496,4.582264423370361,-7.908331394195557,0.24309468269348145,1.6248761415481567,-8.548905372619629,0.12970054149627686,6.976634502410889,2.633585214614868,-9.442079544067383,-1.62090003490448,3.032003879547119,3.5304863452911377,2.663550615310669,1.6798044443130493,10.639533996582031,10.332300186157227,12.596644401550293,-0.05088995397090912,-4.874746799468994,4.492818832397461,9.408963203430176,9.189085006713867,-5.677177906036377,-6.516262531280518,9.264558792114258,13.288808822631836,-0.20891253650188446,15.701799392700195,-0.40418148040771484,8.029553413391113,2.581367015838623,1.470141053199768,-8.015461921691895,8.934895515441895,5.600956916809082,-1.7755037546157837,-1.452867865562439,0.02415500208735466,-0.6850597858428955,0.6784376502037048,-0.1052849218249321,1.4893146753311157,1.3653595447540283,-10.312012672424316,9.868576049804688,-13.78342056274414,-3.419106960296631],\"type\":\"scatter\",\"textposition\":\"top center\"},{\"marker\":{\"color\":[\"red\",\"red\",\"red\",\"red\",\"red\",\"red\",\"red\",\"red\",\"red\",\"red\",\"red\",\"red\"]},\"mode\":\"markers+text\",\"text\":[\"Parkinson\",\"Tremor\",\"HIV\",\"AIDS\",\"Schlaganfall\",\"Hirninfarkt\",\"Appendix\",\"Wurmfortsatz\",\"Ballenzeh\",\"Plattfu\\u00df\",\"Erk\\u00e4ltung\",\"Grippe\"],\"x\":[11.921036720275879,9.379652976989746,15.677166938781738,15.71127700805664,-9.417119026184082,-13.917695045471191,12.941420555114746,-2.7002768516540527,-6.297389507293701,8.862874031066895,-7.022608280181885,13.916690826416016],\"y\":[-1.7755037546157837,-1.452867865562439,0.02415500208735466,-0.6850597858428955,0.6784376502037048,-0.10561568289995193,1.4893146753311157,1.3653595447540283,-10.312012672424316,9.868576049804688,-13.78342056274414,-3.419106960296631],\"type\":\"scatter\",\"textposition\":\"top center\"}],                        {\"template\":{\"data\":{\"histogram2dcontour\":[{\"type\":\"histogram2dcontour\",\"colorbar\":{\"outlinewidth\":0,\"ticks\":\"\"},\"colorscale\":[[0.0,\"#0d0887\"],[0.1111111111111111,\"#46039f\"],[0.2222222222222222,\"#7201a8\"],[0.3333333333333333,\"#9c179e\"],[0.4444444444444444,\"#bd3786\"],[0.5555555555555556,\"#d8576b\"],[0.6666666666666666,\"#ed7953\"],[0.7777777777777778,\"#fb9f3a\"],[0.8888888888888888,\"#fdca26\"],[1.0,\"#f0f921\"]]}],\"choropleth\":[{\"type\":\"choropleth\",\"colorbar\":{\"outlinewidth\":0,\"ticks\":\"\"}}],\"histogram2d\":[{\"type\":\"histogram2d\",\"colorbar\":{\"outlinewidth\":0,\"ticks\":\"\"},\"colorscale\":[[0.0,\"#0d0887\"],[0.1111111111111111,\"#46039f\"],[0.2222222222222222,\"#7201a8\"],[0.3333333333333333,\"#9c179e\"],[0.4444444444444444,\"#bd3786\"],[0.5555555555555556,\"#d8576b\"],[0.6666666666666666,\"#ed7953\"],[0.7777777777777778,\"#fb9f3a\"],[0.8888888888888888,\"#fdca26\"],[1.0,\"#f0f921\"]]}],\"heatmap\":[{\"type\":\"heatmap\",\"colorbar\":{\"outlinewidth\":0,\"ticks\":\"\"},\"colorscale\":[[0.0,\"#0d0887\"],[0.1111111111111111,\"#46039f\"],[0.2222222222222222,\"#7201a8\"],[0.3333333333333333,\"#9c179e\"],[0.4444444444444444,\"#bd3786\"],[0.5555555555555556,\"#d8576b\"],[0.6666666666666666,\"#ed7953\"],[0.7777777777777778,\"#fb9f3a\"],[0.8888888888888888,\"#fdca26\"],[1.0,\"#f0f921\"]]}],\"heatmapgl\":[{\"type\":\"heatmapgl\",\"colorbar\":{\"outlinewidth\":0,\"ticks\":\"\"},\"colorscale\":[[0.0,\"#0d0887\"],[0.1111111111111111,\"#46039f\"],[0.2222222222222222,\"#7201a8\"],[0.3333333333333333,\"#9c179e\"],[0.4444444444444444,\"#bd3786\"],[0.5555555555555556,\"#d8576b\"],[0.6666666666666666,\"#ed7953\"],[0.7777777777777778,\"#fb9f3a\"],[0.8888888888888888,\"#fdca26\"],[1.0,\"#f0f921\"]]}],\"contourcarpet\":[{\"type\":\"contourcarpet\",\"colorbar\":{\"outlinewidth\":0,\"ticks\":\"\"}}],\"contour\":[{\"type\":\"contour\",\"colorbar\":{\"outlinewidth\":0,\"ticks\":\"\"},\"colorscale\":[[0.0,\"#0d0887\"],[0.1111111111111111,\"#46039f\"],[0.2222222222222222,\"#7201a8\"],[0.3333333333333333,\"#9c179e\"],[0.4444444444444444,\"#bd3786\"],[0.5555555555555556,\"#d8576b\"],[0.6666666666666666,\"#ed7953\"],[0.7777777777777778,\"#fb9f3a\"],[0.8888888888888888,\"#fdca26\"],[1.0,\"#f0f921\"]]}],\"surface\":[{\"type\":\"surface\",\"colorbar\":{\"outlinewidth\":0,\"ticks\":\"\"},\"colorscale\":[[0.0,\"#0d0887\"],[0.1111111111111111,\"#46039f\"],[0.2222222222222222,\"#7201a8\"],[0.3333333333333333,\"#9c179e\"],[0.4444444444444444,\"#bd3786\"],[0.5555555555555556,\"#d8576b\"],[0.6666666666666666,\"#ed7953\"],[0.7777777777777778,\"#fb9f3a\"],[0.8888888888888888,\"#fdca26\"],[1.0,\"#f0f921\"]]}],\"mesh3d\":[{\"type\":\"mesh3d\",\"colorbar\":{\"outlinewidth\":0,\"ticks\":\"\"}}],\"scatter\":[{\"fillpattern\":{\"fillmode\":\"overlay\",\"size\":10,\"solidity\":0.2},\"type\":\"scatter\"}],\"parcoords\":[{\"type\":\"parcoords\",\"line\":{\"colorbar\":{\"outlinewidth\":0,\"ticks\":\"\"}}}],\"scatterpolargl\":[{\"type\":\"scatterpolargl\",\"marker\":{\"colorbar\":{\"outlinewidth\":0,\"ticks\":\"\"}}}],\"bar\":[{\"error_x\":{\"color\":\"#2a3f5f\"},\"error_y\":{\"color\":\"#2a3f5f\"},\"marker\":{\"line\":{\"color\":\"#E5ECF6\",\"width\":0.5},\"pattern\":{\"fillmode\":\"overlay\",\"size\":10,\"solidity\":0.2}},\"type\":\"bar\"}],\"scattergeo\":[{\"type\":\"scattergeo\",\"marker\":{\"colorbar\":{\"outlinewidth\":0,\"ticks\":\"\"}}}],\"scatterpolar\":[{\"type\":\"scatterpolar\",\"marker\":{\"colorbar\":{\"outlinewidth\":0,\"ticks\":\"\"}}}],\"histogram\":[{\"marker\":{\"pattern\":{\"fillmode\":\"overlay\",\"size\":10,\"solidity\":0.2}},\"type\":\"histogram\"}],\"scattergl\":[{\"type\":\"scattergl\",\"marker\":{\"colorbar\":{\"outlinewidth\":0,\"ticks\":\"\"}}}],\"scatter3d\":[{\"type\":\"scatter3d\",\"line\":{\"colorbar\":{\"outlinewidth\":0,\"ticks\":\"\"}},\"marker\":{\"colorbar\":{\"outlinewidth\":0,\"ticks\":\"\"}}}],\"scattermapbox\":[{\"type\":\"scattermapbox\",\"marker\":{\"colorbar\":{\"outlinewidth\":0,\"ticks\":\"\"}}}],\"scatterternary\":[{\"type\":\"scatterternary\",\"marker\":{\"colorbar\":{\"outlinewidth\":0,\"ticks\":\"\"}}}],\"scattercarpet\":[{\"type\":\"scattercarpet\",\"marker\":{\"colorbar\":{\"outlinewidth\":0,\"ticks\":\"\"}}}],\"carpet\":[{\"aaxis\":{\"endlinecolor\":\"#2a3f5f\",\"gridcolor\":\"white\",\"linecolor\":\"white\",\"minorgridcolor\":\"white\",\"startlinecolor\":\"#2a3f5f\"},\"baxis\":{\"endlinecolor\":\"#2a3f5f\",\"gridcolor\":\"white\",\"linecolor\":\"white\",\"minorgridcolor\":\"white\",\"startlinecolor\":\"#2a3f5f\"},\"type\":\"carpet\"}],\"table\":[{\"cells\":{\"fill\":{\"color\":\"#EBF0F8\"},\"line\":{\"color\":\"white\"}},\"header\":{\"fill\":{\"color\":\"#C8D4E3\"},\"line\":{\"color\":\"white\"}},\"type\":\"table\"}],\"barpolar\":[{\"marker\":{\"line\":{\"color\":\"#E5ECF6\",\"width\":0.5},\"pattern\":{\"fillmode\":\"overlay\",\"size\":10,\"solidity\":0.2}},\"type\":\"barpolar\"}],\"pie\":[{\"automargin\":true,\"type\":\"pie\"}]},\"layout\":{\"autotypenumbers\":\"strict\",\"colorway\":[\"#636efa\",\"#EF553B\",\"#00cc96\",\"#ab63fa\",\"#FFA15A\",\"#19d3f3\",\"#FF6692\",\"#B6E880\",\"#FF97FF\",\"#FECB52\"],\"font\":{\"color\":\"#2a3f5f\"},\"hovermode\":\"closest\",\"hoverlabel\":{\"align\":\"left\"},\"paper_bgcolor\":\"white\",\"plot_bgcolor\":\"#E5ECF6\",\"polar\":{\"bgcolor\":\"#E5ECF6\",\"angularaxis\":{\"gridcolor\":\"white\",\"linecolor\":\"white\",\"ticks\":\"\"},\"radialaxis\":{\"gridcolor\":\"white\",\"linecolor\":\"white\",\"ticks\":\"\"}},\"ternary\":{\"bgcolor\":\"#E5ECF6\",\"aaxis\":{\"gridcolor\":\"white\",\"linecolor\":\"white\",\"ticks\":\"\"},\"baxis\":{\"gridcolor\":\"white\",\"linecolor\":\"white\",\"ticks\":\"\"},\"caxis\":{\"gridcolor\":\"white\",\"linecolor\":\"white\",\"ticks\":\"\"}},\"coloraxis\":{\"colorbar\":{\"outlinewidth\":0,\"ticks\":\"\"}},\"colorscale\":{\"sequential\":[[0.0,\"#0d0887\"],[0.1111111111111111,\"#46039f\"],[0.2222222222222222,\"#7201a8\"],[0.3333333333333333,\"#9c179e\"],[0.4444444444444444,\"#bd3786\"],[0.5555555555555556,\"#d8576b\"],[0.6666666666666666,\"#ed7953\"],[0.7777777777777778,\"#fb9f3a\"],[0.8888888888888888,\"#fdca26\"],[1.0,\"#f0f921\"]],\"sequentialminus\":[[0.0,\"#0d0887\"],[0.1111111111111111,\"#46039f\"],[0.2222222222222222,\"#7201a8\"],[0.3333333333333333,\"#9c179e\"],[0.4444444444444444,\"#bd3786\"],[0.5555555555555556,\"#d8576b\"],[0.6666666666666666,\"#ed7953\"],[0.7777777777777778,\"#fb9f3a\"],[0.8888888888888888,\"#fdca26\"],[1.0,\"#f0f921\"]],\"diverging\":[[0,\"#8e0152\"],[0.1,\"#c51b7d\"],[0.2,\"#de77ae\"],[0.3,\"#f1b6da\"],[0.4,\"#fde0ef\"],[0.5,\"#f7f7f7\"],[0.6,\"#e6f5d0\"],[0.7,\"#b8e186\"],[0.8,\"#7fbc41\"],[0.9,\"#4d9221\"],[1,\"#276419\"]]},\"xaxis\":{\"gridcolor\":\"white\",\"linecolor\":\"white\",\"ticks\":\"\",\"title\":{\"standoff\":15},\"zerolinecolor\":\"white\",\"automargin\":true,\"zerolinewidth\":2},\"yaxis\":{\"gridcolor\":\"white\",\"linecolor\":\"white\",\"ticks\":\"\",\"title\":{\"standoff\":15},\"zerolinecolor\":\"white\",\"automargin\":true,\"zerolinewidth\":2},\"scene\":{\"xaxis\":{\"backgroundcolor\":\"#E5ECF6\",\"gridcolor\":\"white\",\"linecolor\":\"white\",\"showbackground\":true,\"ticks\":\"\",\"zerolinecolor\":\"white\",\"gridwidth\":2},\"yaxis\":{\"backgroundcolor\":\"#E5ECF6\",\"gridcolor\":\"white\",\"linecolor\":\"white\",\"showbackground\":true,\"ticks\":\"\",\"zerolinecolor\":\"white\",\"gridwidth\":2},\"zaxis\":{\"backgroundcolor\":\"#E5ECF6\",\"gridcolor\":\"white\",\"linecolor\":\"white\",\"showbackground\":true,\"ticks\":\"\",\"zerolinecolor\":\"white\",\"gridwidth\":2}},\"shapedefaults\":{\"line\":{\"color\":\"#2a3f5f\"}},\"annotationdefaults\":{\"arrowcolor\":\"#2a3f5f\",\"arrowhead\":0,\"arrowwidth\":1},\"geo\":{\"bgcolor\":\"white\",\"landcolor\":\"#E5ECF6\",\"subunitcolor\":\"white\",\"showland\":true,\"showlakes\":true,\"lakecolor\":\"white\"},\"title\":{\"x\":0.05},\"mapbox\":{\"style\":\"light\"}}},\"title\":{\"text\":\"ICD10 diseases german word embeddings\"},\"hovermode\":\"closest\",\"showlegend\":false,\"width\":800,\"height\":800},                        {\"responsive\": true}                    ).then(function(){\n                            \nvar gd = document.getElementById('614a4587-2c54-4dfe-90de-0243e0dec3a8');\nvar x = new MutationObserver(function (mutations, observer) {{\n        var display = window.getComputedStyle(gd).display;\n        if (!display || display === 'none') {{\n            console.log([gd, 'removed!']);\n            Plotly.purge(gd);\n            observer.disconnect();\n        }}\n}});\n\n// Listen for the removal of the full notebook cells\nvar notebookContainer = gd.closest('#notebook-container');\nif (notebookContainer) {{\n    x.observe(notebookContainer, {childList: true});\n}}\n\n// Listen for the clearing of the current output cell\nvar outputEl = gd.closest('.output');\nif (outputEl) {{\n    x.observe(outputEl, {childList: true});\n}}\n\n                        })                };                });            </script>        </div>"
     },
     "metadata": {},
     "output_type": "display_data"
    }
   ],
   "source": [
    "df = pd.DataFrame({'x': X_tsne[:,0], 'y': X_tsne[:,1], 'label': labels})\n",
    "df['color'] = 'lightblue'\n",
    "\n",
    "# Additional DataFrame for specific diseases with red color\n",
    "additional_df = pd.DataFrame()\n",
    "for disease in test_diseases:\n",
    "    additional_df = pd.concat([additional_df, pd.DataFrame({\n",
    "        'x': X_tsne[labels.index(disease), 0],\n",
    "        'y': X_tsne[labels.index(disease), 1],\n",
    "        'label': disease,\n",
    "        \"color\": \"red\"\n",
    "    }, index=[1])])\n",
    "\n",
    "\n",
    "fig = go.Figure()\n",
    "\n",
    "fig.add_trace(go.Scatter(\n",
    "    x=df['x'],\n",
    "    y=df['y'],\n",
    "    mode='markers',\n",
    "    marker=dict(color=df['color']),\n",
    "    text=df['label'],\n",
    "))\n",
    "fig.add_trace(go.Scatter(\n",
    "    x=additional_df['x'],\n",
    "    y=additional_df['y'],\n",
    "    mode='markers+text',\n",
    "    marker=dict(color=additional_df['color']),\n",
    "    text=additional_df['label'],\n",
    "))\n",
    "\n",
    "fig.update_layout(title_text='ICD10 diseases german word embeddings', hovermode='closest', showlegend=False, width=800, height=800)\n",
    "fig.update_traces(textposition='top center')\n",
    "fig.show()"
   ],
   "metadata": {
    "collapsed": false,
    "ExecuteTime": {
     "end_time": "2024-01-13T13:31:19.340881800Z",
     "start_time": "2024-01-13T13:31:19.337881500Z"
    }
   },
   "id": "4087fb1c265c1ab7"
  },
  {
   "cell_type": "code",
   "execution_count": 13,
   "outputs": [],
   "source": [],
   "metadata": {
    "collapsed": false,
    "ExecuteTime": {
     "end_time": "2024-01-13T13:30:55.832609700Z",
     "start_time": "2024-01-13T13:30:55.811611Z"
    }
   },
   "id": "c26e9feee5dc8f77"
  }
 ],
 "metadata": {
  "kernelspec": {
   "display_name": "Python 3",
   "language": "python",
   "name": "python3"
  },
  "language_info": {
   "codemirror_mode": {
    "name": "ipython",
    "version": 2
   },
   "file_extension": ".py",
   "mimetype": "text/x-python",
   "name": "python",
   "nbconvert_exporter": "python",
   "pygments_lexer": "ipython2",
   "version": "2.7.6"
  }
 },
 "nbformat": 4,
 "nbformat_minor": 5
}
