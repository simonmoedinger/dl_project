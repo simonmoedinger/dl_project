{
 "cells": [
  {
   "cell_type": "code",
   "execution_count": 1,
   "metadata": {},
   "outputs": [],
   "source": [
    "import os\n",
    "os.environ['TRANSFORMERS_CACHE'] = '/home/smoeding/ca!pip -qqq install langchainches/'\n",
    "os.environ['XDG_CACHE_HOME'] = '/home/smoeding/caches/'"
   ]
  },
  {
   "cell_type": "code",
   "execution_count": 2,
   "metadata": {},
   "outputs": [],
   "source": [
    "!pip -qqq install langchain"
   ]
  },
  {
   "cell_type": "code",
   "execution_count": 18,
   "metadata": {},
   "outputs": [],
   "source": [
    "import torch\n",
    "from transformers import AutoTokenizer, AutoModelForCausalLM, BitsAndBytesConfig, AutoProcessor,GenerationConfig\n",
    "from transformers import GenerationConfig, pipeline,TextStreamer\n",
    "from langchain import HuggingFacePipeline\n",
    "from langchain import PromptTemplate, LLMChain\n",
    "import random\n",
    "import textwrap\n",
    "from sklearn.metrics import accuracy_score\n",
    "import pandas as pd"
   ]
  },
  {
   "cell_type": "code",
   "execution_count": 4,
   "metadata": {
    "tags": []
   },
   "outputs": [
    {
     "data": {
      "text/plain": [
       "'Tesla P100-PCIE-16GB'"
      ]
     },
     "execution_count": 4,
     "metadata": {},
     "output_type": "execute_result"
    }
   ],
   "source": [
    "torch.cuda.get_device_name(0)"
   ]
  },
  {
   "cell_type": "code",
   "execution_count": 5,
   "metadata": {},
   "outputs": [
    {
     "data": {
      "application/vnd.jupyter.widget-view+json": {
       "model_id": "da898c1a86b545f2918277a937df7c79",
       "version_major": 2,
       "version_minor": 0
      },
      "text/plain": [
       "config.json:   0%|          | 0.00/571 [00:00<?, ?B/s]"
      ]
     },
     "metadata": {},
     "output_type": "display_data"
    },
    {
     "data": {
      "application/vnd.jupyter.widget-view+json": {
       "model_id": "78f0126cf5c9467eaeb67179b4a69f7b",
       "version_major": 2,
       "version_minor": 0
      },
      "text/plain": [
       "pytorch_model.bin.index.json:   0%|          | 0.00/23.9k [00:00<?, ?B/s]"
      ]
     },
     "metadata": {},
     "output_type": "display_data"
    },
    {
     "data": {
      "application/vnd.jupyter.widget-view+json": {
       "model_id": "3614c37bac394979adf9115b9736a67a",
       "version_major": 2,
       "version_minor": 0
      },
      "text/plain": [
       "Downloading shards:   0%|          | 0/2 [00:00<?, ?it/s]"
      ]
     },
     "metadata": {},
     "output_type": "display_data"
    },
    {
     "data": {
      "application/vnd.jupyter.widget-view+json": {
       "model_id": "e3be7721275d48dfb28d4cacf0011aa5",
       "version_major": 2,
       "version_minor": 0
      },
      "text/plain": [
       "pytorch_model-00001-of-00002.bin:   0%|          | 0.00/9.94G [00:00<?, ?B/s]"
      ]
     },
     "metadata": {},
     "output_type": "display_data"
    },
    {
     "data": {
      "application/vnd.jupyter.widget-view+json": {
       "model_id": "51376a150b5a43eca469f600f1e5629e",
       "version_major": 2,
       "version_minor": 0
      },
      "text/plain": [
       "pytorch_model-00002-of-00002.bin:   0%|          | 0.00/5.06G [00:00<?, ?B/s]"
      ]
     },
     "metadata": {},
     "output_type": "display_data"
    },
    {
     "data": {
      "application/vnd.jupyter.widget-view+json": {
       "model_id": "678b2273878b4f7faee13b8d90c9e9ea",
       "version_major": 2,
       "version_minor": 0
      },
      "text/plain": [
       "Loading checkpoint shards:   0%|          | 0/2 [00:00<?, ?it/s]"
      ]
     },
     "metadata": {},
     "output_type": "display_data"
    },
    {
     "data": {
      "application/vnd.jupyter.widget-view+json": {
       "model_id": "bb222cf5e04b47efad559e0096127457",
       "version_major": 2,
       "version_minor": 0
      },
      "text/plain": [
       "generation_config.json:   0%|          | 0.00/116 [00:00<?, ?B/s]"
      ]
     },
     "metadata": {},
     "output_type": "display_data"
    },
    {
     "data": {
      "application/vnd.jupyter.widget-view+json": {
       "model_id": "66515c447f9640a38372b7d5e60cb0df",
       "version_major": 2,
       "version_minor": 0
      },
      "text/plain": [
       "tokenizer_config.json:   0%|          | 0.00/966 [00:00<?, ?B/s]"
      ]
     },
     "metadata": {},
     "output_type": "display_data"
    },
    {
     "data": {
      "application/vnd.jupyter.widget-view+json": {
       "model_id": "022995b5075147caba70c66971601799",
       "version_major": 2,
       "version_minor": 0
      },
      "text/plain": [
       "tokenizer.model:   0%|          | 0.00/493k [00:00<?, ?B/s]"
      ]
     },
     "metadata": {},
     "output_type": "display_data"
    },
    {
     "data": {
      "application/vnd.jupyter.widget-view+json": {
       "model_id": "c91f515dff554ba083eb242504b914b0",
       "version_major": 2,
       "version_minor": 0
      },
      "text/plain": [
       "tokenizer.json:   0%|          | 0.00/1.80M [00:00<?, ?B/s]"
      ]
     },
     "metadata": {},
     "output_type": "display_data"
    },
    {
     "data": {
      "application/vnd.jupyter.widget-view+json": {
       "model_id": "d46e61420e864e868d12aaba6b130a0d",
       "version_major": 2,
       "version_minor": 0
      },
      "text/plain": [
       "special_tokens_map.json:   0%|          | 0.00/72.0 [00:00<?, ?B/s]"
      ]
     },
     "metadata": {},
     "output_type": "display_data"
    }
   ],
   "source": [
    "bnb_config = BitsAndBytesConfig(\n",
    "    load_in_4bit=True,\n",
    "    bnb_4bit_use_double_quant=True,\n",
    "    bnb_4bit_quant_type=\"nf4\",\n",
    "    bnb_4bit_compute_dtype=torch.bfloat16\n",
    ")\n",
    "\n",
    "model_id = \"mistralai/Mistral-7B-v0.1\"\n",
    "model = AutoModelForCausalLM.from_pretrained(model_id, quantization_config=bnb_config, device_map=\"auto\")\n",
    "tokenizer = AutoTokenizer.from_pretrained(model_id)\n",
    "tokenizer.pad_token_id=tokenizer.eos_token_id\n",
    "\n"
   ]
  },
  {
   "cell_type": "code",
   "execution_count": 6,
   "metadata": {},
   "outputs": [],
   "source": [
    "generation_config=GenerationConfig(max_new_tokens=30,\n",
    "                                    temperature=0.4,\n",
    "                                    top_p=0.95,\n",
    "                                    top_k=40,\n",
    "                                    repetition_penalty=1.2,\n",
    "                                    bos_token_id=tokenizer.bos_token_id,\n",
    "                                    eos_token_id=tokenizer.eos_token_id,\n",
    "                                    do_sample=True,\n",
    "                                    use_cache=True,\n",
    "                                    output_attentions=False,\n",
    "                                    output_hidden_states=False,\n",
    "                                    output_scores=False,\n",
    "                                    remove_invalid_values=True\n",
    "                                    )"
   ]
  },
  {
   "cell_type": "markdown",
   "metadata": {},
   "source": [
    "pip install ipywidgets==7.7generation_config=GenerationConfig(max_new_tokens=30,\n",
    "                                    temperature=0.4,\n",
    "                                    top_p=0.95,\n",
    "                                    top_k=40,\n",
    "                                    repetition_penalty=1.2,\n",
    "                                    bos_token_id=tokenizer.bos_token_id,\n",
    "                                    eos_token_id=tokenizer.eos_token_id,\n",
    "                                    do_sample=True,\n",
    "                                    use_cache=True,\n",
    "                                    output_attentions=False,\n",
    "                                    output_hidden_states=False,\n",
    "                                    output_scores=False,\n",
    "                                    remove_invalid_values=True\n",
    "                                    )# Mistral-7B-v0.1 (foundation model)\n"
   ]
  },
  {
   "cell_type": "code",
   "execution_count": 13,
   "metadata": {},
   "outputs": [],
   "source": [
    "def wrap_text(text, width=90): #preserve_newlines\n",
    "  lines = text.split('\\n')\n",
    "  wrapped_lines = [textwrap.fill(line, width=width) for line in lines]\n",
    "  wrapped_text = '\\n'.join(wrapped_lines)\n",
    "  return wrapped_text"
   ]
  },
  {
   "cell_type": "code",
   "execution_count": 14,
   "metadata": {},
   "outputs": [],
   "source": [
    "def multimodal_prompt(input_text:str, system_prompt=\"\",max_length=512) -> str:\n",
    "  \"\"\"few-shot text-to-text prompting\n",
    "\n",
    "  Generates text using a large language model, given a prompt and a device.\n",
    "\n",
    "  Args:\n",
    "    model: An AutoModelForCausalLM instance.\n",
    "    tokenizer: An AutoTokenizer instance.\n",
    "    prompt: The prompt to use for generation.\n",
    "    device: The device to use for generation.\n",
    "\n",
    "  Returns:\n",
    "    A string containing the generated text.\n",
    "  \"\"\"\n",
    "  prompt = f\"\"\"<s>[INST]{input_text}[/INST]\"\"\"\n",
    "  encodeds = tokenizer(prompt, return_tensors=\"pt\", add_special_tokens=False)\n",
    "  model_inputs = encodeds.to(device)\n",
    "\n",
    "  output = model.generate(**model_inputs,\n",
    "                                max_length=max_length,\n",
    "                                use_cache=True,\n",
    "                                early_stopping=True,\n",
    "                                bos_token_id=model.config.bos_token_id,\n",
    "                                eos_token_id=model.config.eos_token_id,\n",
    "                                pad_token_id=model.config.eos_token_id,\n",
    "                                temperature=0.1,\n",
    "                               do_sample=True)\n",
    "\n",
    "# Randomly select one of the generated outputs\n",
    "  response = random.choice(tokenizer.batch_decode(output))\n",
    "\n",
    "  # Wrap the response text to a width of 90 characters\n",
    "  wrapped_response = wrap_text(response)\n",
    "  print(wrapped_response)"
   ]
  },
  {
   "cell_type": "code",
   "execution_count": 7,
   "metadata": {},
   "outputs": [],
   "source": [
    "def prompt_model(prompt):\n",
    "    input_tokens=tokenizer(prompt + \" Die richtige Antwort ist BEGINANTWORT\", return_tensors=\"pt\").to(model.device)\n",
    "    output_tokens=model.generate(**input_tokens, generation_config=generation_config, pad_token_id=tokenizer.eos_token_id)[0]\n",
    "    answer=tokenizer.decode(output_tokens, skip_special_tokens=True)\n",
    "    return answer"
   ]
  },
  {
   "cell_type": "code",
   "execution_count": 8,
   "metadata": {},
   "outputs": [],
   "source": [
    "prompt_case = \"Es folgt eine Fallbeschreibung, dessen Anfang und Ende durch die Tags BEGINFALL und ENDFALL markiert ist. Darauf wird eine Frage gestellt, die zwischen den TAGS BEGINFRAGE und ENDFRAGE steht. Antwortmöglichkeiten stehen jeweils zwischen den Tags BEGINANTWORT und ENDANTWORT. BEGINFALL <INSERTFALL> ENDFALL BEGINFRAGE <INSERTFRAGE> ENDFRAGE BEGINANTWORT <INSERTANTWORT0> ENDANTWORT BEGINANTWORT <INSERTANTWORT1> ENDANTWORT BEGINANTWORT <INSERTANTWORT2> ENDANTWORT BEGINANTWORT <INSERTANTWORT3> ENDANTWORT BEGINANTWORT <INSERTANTWORT4> ENDANTWORT. Die Frage wird gleich dadurch Beantwortet, die korrekte Antwortmöglichkeit wortwörtlich wiederzugeben.\"\n",
    "prompt_no_case = \"Es wird eine Frage gestellt, die zwischen den TAGS BEGINFRAGE und ENDFRAGE steht. Antwortmöglichkeiten stehen jeweils zwischen den Tags BEGINANTWORT und ENDANTWORT. BEGINFALL <INSERTFALL> ENDFALL BEGINFRAGE <INSERTFRAGE> ENDFRAGE BEGINANTWORT <INSERTANTWORT0> ENDANTWORT BEGINANTWORT <INSERTANTWORT1> ENDANTWORT BEGINANTWORT <INSERTANTWORT2> ENDANTWORT BEGINANTWORT <INSERTANTWORT3> ENDANTWORT BEGINANTWORT <INSERTANTWORT4> ENDANTWORT. Die Frage wird gleich dadurch Beantwortet, die korrekte Antwortmöglichkeit wortwörtlich wiederzugeben.\""
   ]
  },
  {
   "cell_type": "code",
   "execution_count": 21,
   "metadata": {},
   "outputs": [],
   "source": [
    "questions_df = pd.read_csv(\"leo-mistral-hessiani-7b/output.csv\")\n",
    "questions_df[\"Answer LLM\"] = [-1 for i in range(len(questions_df))]"
   ]
  },
  {
   "cell_type": "code",
   "execution_count": 10,
   "metadata": {},
   "outputs": [
    {
     "data": {
      "text/html": [
       "<div>\n",
       "<style scoped>\n",
       "    .dataframe tbody tr th:only-of-type {\n",
       "        vertical-align: middle;\n",
       "    }\n",
       "\n",
       "    .dataframe tbody tr th {\n",
       "        vertical-align: top;\n",
       "    }\n",
       "\n",
       "    .dataframe thead th {\n",
       "        text-align: right;\n",
       "    }\n",
       "</style>\n",
       "<table border=\"1\" class=\"dataframe\">\n",
       "  <thead>\n",
       "    <tr style=\"text-align: right;\">\n",
       "      <th></th>\n",
       "      <th>Case</th>\n",
       "      <th>Question</th>\n",
       "      <th>Answer 1</th>\n",
       "      <th>Answer 2</th>\n",
       "      <th>Answer 3</th>\n",
       "      <th>Answer 4</th>\n",
       "      <th>Answer 5</th>\n",
       "      <th>Correct Answer</th>\n",
       "      <th>Answer LLM</th>\n",
       "    </tr>\n",
       "  </thead>\n",
       "  <tbody>\n",
       "    <tr>\n",
       "      <th>0</th>\n",
       "      <td>Eine 35-jährige Patientin wird in Begleitung d...</td>\n",
       "      <td>Welche der genannten Vorgehensweisen ist bei d...</td>\n",
       "      <td>0) Anlage einer Hirndrucksonde</td>\n",
       "      <td>1) Polytrauma-CT-Spirale</td>\n",
       "      <td>2) MRT des Abdomens</td>\n",
       "      <td>3) Anlage einer Thoraxdrainage links</td>\n",
       "      <td>4) 12-Kanal-EKG</td>\n",
       "      <td>1</td>\n",
       "      <td>-1</td>\n",
       "    </tr>\n",
       "    <tr>\n",
       "      <th>1</th>\n",
       "      <td>Eine 35-jährige Patientin wird in Begleitung d...</td>\n",
       "      <td>Bei weiterhin kritisch-instabiler Patientin se...</td>\n",
       "      <td>0) abwartendes, konservatives Vorgehen</td>\n",
       "      <td>1) sofortige Notfalloperation</td>\n",
       "      <td>2) Punktion des Abdomens mit Anlage einer Drai...</td>\n",
       "      <td>3) Anlage einer Thoraxdrainage links</td>\n",
       "      <td>4) Angio-CT des Schädels</td>\n",
       "      <td>1</td>\n",
       "      <td>-1</td>\n",
       "    </tr>\n",
       "    <tr>\n",
       "      <th>2</th>\n",
       "      <td>Ein 56 Jahre alter Herr kommt mit einem etwas ...</td>\n",
       "      <td>Welche der genannten diagnostisch-pathogenetis...</td>\n",
       "      <td>0) eine durch eine Schädigung der Pyramidenbah...</td>\n",
       "      <td>1) eine infolge einer Schädigung der linken Py...</td>\n",
       "      <td>2) eine auf einer Schädigung des Kleinhirns be...</td>\n",
       "      <td>3) ein durch eine Meningitis bedingtes Lhermit...</td>\n",
       "      <td>4) zentral bedingte neurologische Zeichen und ...</td>\n",
       "      <td>4</td>\n",
       "      <td>-1</td>\n",
       "    </tr>\n",
       "    <tr>\n",
       "      <th>3</th>\n",
       "      <td>Ein 56 Jahre alter Herr kommt mit einem etwas ...</td>\n",
       "      <td>Welche der genannten Therapieoptionen einschli...</td>\n",
       "      <td>0) Entfernung der Bandscheibe, um eine weitere...</td>\n",
       "      <td>1) Verzicht auf eine Operation wegen schon ein...</td>\n",
       "      <td>2) Radiochemotherapie zur Entfernung des Wirbe...</td>\n",
       "      <td>3) Wirbelkörperersatz zur Entfernung der degen...</td>\n",
       "      <td>4) Verordnung neurotroper Medikamente zum Wied...</td>\n",
       "      <td>0</td>\n",
       "      <td>-1</td>\n",
       "    </tr>\n",
       "    <tr>\n",
       "      <th>4</th>\n",
       "      <td>Bei der Früherkennungsuntersuchung auf Gebärmu...</td>\n",
       "      <td>Welcher der folgenden Virustypen gehört hinsic...</td>\n",
       "      <td>0) 1</td>\n",
       "      <td>1) 4</td>\n",
       "      <td>2) 11</td>\n",
       "      <td>3) 16</td>\n",
       "      <td>4) 20</td>\n",
       "      <td>3</td>\n",
       "      <td>-1</td>\n",
       "    </tr>\n",
       "    <tr>\n",
       "      <th>...</th>\n",
       "      <td>...</td>\n",
       "      <td>...</td>\n",
       "      <td>...</td>\n",
       "      <td>...</td>\n",
       "      <td>...</td>\n",
       "      <td>...</td>\n",
       "      <td>...</td>\n",
       "      <td>...</td>\n",
       "      <td>...</td>\n",
       "    </tr>\n",
       "    <tr>\n",
       "      <th>243</th>\n",
       "      <td>NaN</td>\n",
       "      <td>Ein 32-jähriger Mann stellt sich bei einem HNO...</td>\n",
       "      <td>0) Otosklerose</td>\n",
       "      <td>1) Perilymphfistel des lateralen Bogengangs</td>\n",
       "      <td>2) Fehlbildung der Cochlea</td>\n",
       "      <td>3) traumatische Trommelfellperforation</td>\n",
       "      <td>4) Dehiszenz des superioren Bogengangs</td>\n",
       "      <td>4</td>\n",
       "      <td>-1</td>\n",
       "    </tr>\n",
       "    <tr>\n",
       "      <th>244</th>\n",
       "      <td>NaN</td>\n",
       "      <td>Klaus B., 26-jähriger Sportstudent, lebt seit ...</td>\n",
       "      <td>0) einmalige Tetanus-Diphtherie-Pertussis-Impf...</td>\n",
       "      <td>1) einmalige Masern-Mumps-Röteln-Impfung und P...</td>\n",
       "      <td>2) einmalige Tetanus-Diphtherie-Pertussis-Impf...</td>\n",
       "      <td>3) einmalige Impfung gegen Hepatitis A und B</td>\n",
       "      <td>4) einmalige Pneumokokken-Impfung und einmalig...</td>\n",
       "      <td>1</td>\n",
       "      <td>-1</td>\n",
       "    </tr>\n",
       "    <tr>\n",
       "      <th>245</th>\n",
       "      <td>NaN</td>\n",
       "      <td>Die Wirksamkeit eines Impfstoffes oder VE („va...</td>\n",
       "      <td>0) 20 %</td>\n",
       "      <td>1) 40 %</td>\n",
       "      <td>2) 60 %</td>\n",
       "      <td>3) 80 %</td>\n",
       "      <td>4) 100 %</td>\n",
       "      <td>3</td>\n",
       "      <td>-1</td>\n",
       "    </tr>\n",
       "    <tr>\n",
       "      <th>246</th>\n",
       "      <td>NaN</td>\n",
       "      <td>Ein 46-jähriger Patient ohne relevante bekannt...</td>\n",
       "      <td>0) Alpha-Motoneuron im Rückenmark-Vorderhorn</td>\n",
       "      <td>1) Pyramidenbahn</td>\n",
       "      <td>2) Purkinje-Zellen</td>\n",
       "      <td>3) Fasciculus gracilis</td>\n",
       "      <td>4) dorsolaterales Putamen</td>\n",
       "      <td>1</td>\n",
       "      <td>-1</td>\n",
       "    </tr>\n",
       "    <tr>\n",
       "      <th>247</th>\n",
       "      <td>NaN</td>\n",
       "      <td>Ein 68-jähriger Patient wird vom Notarztwagen ...</td>\n",
       "      <td>0) Diffusionsbildgebung</td>\n",
       "      <td>1) CT-Angiografie</td>\n",
       "      <td>2) Echokardiografie</td>\n",
       "      <td>3) Bestimmung der INR</td>\n",
       "      <td>4) Messung der Sauerstoffsättigung</td>\n",
       "      <td>1</td>\n",
       "      <td>-1</td>\n",
       "    </tr>\n",
       "  </tbody>\n",
       "</table>\n",
       "<p>248 rows × 9 columns</p>\n",
       "</div>"
      ],
      "text/plain": [
       "                                                  Case  \\\n",
       "0    Eine 35-jährige Patientin wird in Begleitung d...   \n",
       "1    Eine 35-jährige Patientin wird in Begleitung d...   \n",
       "2    Ein 56 Jahre alter Herr kommt mit einem etwas ...   \n",
       "3    Ein 56 Jahre alter Herr kommt mit einem etwas ...   \n",
       "4    Bei der Früherkennungsuntersuchung auf Gebärmu...   \n",
       "..                                                 ...   \n",
       "243                                                NaN   \n",
       "244                                                NaN   \n",
       "245                                                NaN   \n",
       "246                                                NaN   \n",
       "247                                                NaN   \n",
       "\n",
       "                                              Question  \\\n",
       "0    Welche der genannten Vorgehensweisen ist bei d...   \n",
       "1    Bei weiterhin kritisch-instabiler Patientin se...   \n",
       "2    Welche der genannten diagnostisch-pathogenetis...   \n",
       "3    Welche der genannten Therapieoptionen einschli...   \n",
       "4    Welcher der folgenden Virustypen gehört hinsic...   \n",
       "..                                                 ...   \n",
       "243  Ein 32-jähriger Mann stellt sich bei einem HNO...   \n",
       "244  Klaus B., 26-jähriger Sportstudent, lebt seit ...   \n",
       "245  Die Wirksamkeit eines Impfstoffes oder VE („va...   \n",
       "246  Ein 46-jähriger Patient ohne relevante bekannt...   \n",
       "247  Ein 68-jähriger Patient wird vom Notarztwagen ...   \n",
       "\n",
       "                                              Answer 1  \\\n",
       "0                       0) Anlage einer Hirndrucksonde   \n",
       "1               0) abwartendes, konservatives Vorgehen   \n",
       "2    0) eine durch eine Schädigung der Pyramidenbah...   \n",
       "3    0) Entfernung der Bandscheibe, um eine weitere...   \n",
       "4                                                 0) 1   \n",
       "..                                                 ...   \n",
       "243                                     0) Otosklerose   \n",
       "244  0) einmalige Tetanus-Diphtherie-Pertussis-Impf...   \n",
       "245                                            0) 20 %   \n",
       "246       0) Alpha-Motoneuron im Rückenmark-Vorderhorn   \n",
       "247                            0) Diffusionsbildgebung   \n",
       "\n",
       "                                              Answer 2  \\\n",
       "0                             1) Polytrauma-CT-Spirale   \n",
       "1                        1) sofortige Notfalloperation   \n",
       "2    1) eine infolge einer Schädigung der linken Py...   \n",
       "3    1) Verzicht auf eine Operation wegen schon ein...   \n",
       "4                                                 1) 4   \n",
       "..                                                 ...   \n",
       "243        1) Perilymphfistel des lateralen Bogengangs   \n",
       "244  1) einmalige Masern-Mumps-Röteln-Impfung und P...   \n",
       "245                                            1) 40 %   \n",
       "246                                   1) Pyramidenbahn   \n",
       "247                                  1) CT-Angiografie   \n",
       "\n",
       "                                              Answer 3  \\\n",
       "0                                  2) MRT des Abdomens   \n",
       "1    2) Punktion des Abdomens mit Anlage einer Drai...   \n",
       "2    2) eine auf einer Schädigung des Kleinhirns be...   \n",
       "3    2) Radiochemotherapie zur Entfernung des Wirbe...   \n",
       "4                                                2) 11   \n",
       "..                                                 ...   \n",
       "243                         2) Fehlbildung der Cochlea   \n",
       "244  2) einmalige Tetanus-Diphtherie-Pertussis-Impf...   \n",
       "245                                            2) 60 %   \n",
       "246                                 2) Purkinje-Zellen   \n",
       "247                                2) Echokardiografie   \n",
       "\n",
       "                                              Answer 4  \\\n",
       "0                 3) Anlage einer Thoraxdrainage links   \n",
       "1                 3) Anlage einer Thoraxdrainage links   \n",
       "2    3) ein durch eine Meningitis bedingtes Lhermit...   \n",
       "3    3) Wirbelkörperersatz zur Entfernung der degen...   \n",
       "4                                                3) 16   \n",
       "..                                                 ...   \n",
       "243             3) traumatische Trommelfellperforation   \n",
       "244       3) einmalige Impfung gegen Hepatitis A und B   \n",
       "245                                            3) 80 %   \n",
       "246                             3) Fasciculus gracilis   \n",
       "247                              3) Bestimmung der INR   \n",
       "\n",
       "                                              Answer 5  Correct Answer  \\\n",
       "0                                      4) 12-Kanal-EKG               1   \n",
       "1                             4) Angio-CT des Schädels               1   \n",
       "2    4) zentral bedingte neurologische Zeichen und ...               4   \n",
       "3    4) Verordnung neurotroper Medikamente zum Wied...               0   \n",
       "4                                                4) 20               3   \n",
       "..                                                 ...             ...   \n",
       "243             4) Dehiszenz des superioren Bogengangs               4   \n",
       "244  4) einmalige Pneumokokken-Impfung und einmalig...               1   \n",
       "245                                           4) 100 %               3   \n",
       "246                          4) dorsolaterales Putamen               1   \n",
       "247                 4) Messung der Sauerstoffsättigung               1   \n",
       "\n",
       "     Answer LLM  \n",
       "0            -1  \n",
       "1            -1  \n",
       "2            -1  \n",
       "3            -1  \n",
       "4            -1  \n",
       "..          ...  \n",
       "243          -1  \n",
       "244          -1  \n",
       "245          -1  \n",
       "246          -1  \n",
       "247          -1  \n",
       "\n",
       "[248 rows x 9 columns]"
      ]
     },
     "execution_count": 10,
     "metadata": {},
     "output_type": "execute_result"
    }
   ],
   "source": [
    "questions_df"
   ]
  },
  {
   "cell_type": "code",
   "execution_count": 13,
   "metadata": {},
   "outputs": [
    {
     "name": "stdout",
     "output_type": "stream",
     "text": [
      "Values set: 90 / 248\n"
     ]
    }
   ],
   "source": [
    "for index, row in questions_df.iterrows():\n",
    "    if row[\"Answer LLM\"] == -1:\n",
    "        if type(row[\"Case\"]) == str:\n",
    "            prompt = prompt_case.replace(\"<INSERTFALL>\",row[\"Case\"])\n",
    "        else:\n",
    "            prompt = prompt_no_case\n",
    "        prompt = prompt.replace(\"<INSERTFRAGE>\",row[\"Question\"])\n",
    "        for i in range(5):\n",
    "            prompt = prompt.replace(\"<INSERTANTWORT\" + str(i) + \">\",row[\"Answer \"+ str(i+1)].replace(str(i) + \")\",\"\"))\n",
    "        answer = prompt_model(prompt).split(\"Die richtige Antwort ist BEGINANTWORT\")[1].split(\"ENDANTWORT\")[0]\n",
    "        found = False\n",
    "        for i in range(5):\n",
    "            if row[\"Answer \"+ str(i+1)].replace(str(i) + \")\",\"\").strip().lower() == answer.strip().lower():\n",
    "                found = i\n",
    "                break\n",
    "        #print(answer)\n",
    "        if found != False:\n",
    "            questions_df.loc[index, \"Answer LLM\"] = found\n",
    "print(\"Values set:\", len(questions_df[questions_df[\"Answer LLM\"] != -1]),\"/\",len(questions_df))\n"
   ]
  },
  {
   "cell_type": "code",
   "execution_count": 14,
   "metadata": {},
   "outputs": [],
   "source": [
    "questions_df.to_csv(\"Mistral-7B_output.csv\")"
   ]
  },
  {
   "cell_type": "code",
   "execution_count": 19,
   "metadata": {},
   "outputs": [],
   "source": [
    "y_pred = questions_df[questions_df[\"Answer LLM\"] != -1][\"Answer LLM\"]\n",
    "y_true = questions_df[questions_df[\"Answer LLM\"] != -1][\"Correct Answer\"]"
   ]
  },
  {
   "cell_type": "code",
   "execution_count": 20,
   "metadata": {},
   "outputs": [
    {
     "name": "stdout",
     "output_type": "stream",
     "text": [
      "Accuracy: 0.32222222222222224\n"
     ]
    }
   ],
   "source": [
    "print(\"Accuracy:\",accuracy_score(y_true, y_pred))"
   ]
  },
  {
   "cell_type": "code",
   "execution_count": null,
   "metadata": {},
   "outputs": [],
   "source": []
  }
 ],
 "metadata": {
  "kernelspec": {
   "display_name": "Python 3 (ipykernel)",
   "language": "python",
   "name": "python3"
  },
  "language_info": {
   "codemirror_mode": {
    "name": "ipython",
    "version": 3
   },
   "file_extension": ".py",
   "mimetype": "text/x-python",
   "name": "python",
   "nbconvert_exporter": "python",
   "pygments_lexer": "ipython3",
   "version": "3.10.6"
  },
  "toc-autonumbering": false,
  "toc-showmarkdowntxt": true
 },
 "nbformat": 4,
 "nbformat_minor": 4
}
