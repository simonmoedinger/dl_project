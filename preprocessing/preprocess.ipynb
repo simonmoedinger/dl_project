{
 "cells": [
  {
   "cell_type": "code",
   "execution_count": 31,
   "id": "initial_id",
   "metadata": {
    "collapsed": true,
    "ExecuteTime": {
     "end_time": "2023-12-18T16:07:46.684795500Z",
     "start_time": "2023-12-18T16:07:46.681375Z"
    }
   },
   "outputs": [],
   "source": [
    "import os\n",
    "import matplotlib.pyplot as plt\n",
    "import tqdm \n",
    "import numpy as np"
   ]
  },
  {
   "cell_type": "code",
   "execution_count": 4,
   "outputs": [
    {
     "data": {
      "text/plain": "10265"
     },
     "execution_count": 4,
     "metadata": {},
     "output_type": "execute_result"
    }
   ],
   "source": [
    "terms = open(\"medizinische_begriffe_wiki.txt\",\"r\")\n",
    "term_set = set()\n",
    "\n",
    "for term in terms.read().split(\",\"):\n",
    "    if term.count(\" \") < 3 and len(term) < 20:\n",
    "        term_set.add(term)\n",
    "len(term_set)"
   ],
   "metadata": {
    "collapsed": false,
    "ExecuteTime": {
     "end_time": "2023-12-18T15:44:50.659585100Z",
     "start_time": "2023-12-18T15:44:50.645289Z"
    }
   },
   "id": "a345bb72721c04de"
  },
  {
   "cell_type": "code",
   "execution_count": 5,
   "outputs": [],
   "source": [
    "thresh = 1100 # ca 10kb text"
   ],
   "metadata": {
    "collapsed": false,
    "ExecuteTime": {
     "end_time": "2023-12-18T15:44:52.048774900Z",
     "start_time": "2023-12-18T15:44:52.042774800Z"
    }
   },
   "id": "e775729bcfc17d63"
  },
  {
   "cell_type": "code",
   "execution_count": 67,
   "outputs": [
    {
     "name": "stderr",
     "output_type": "stream",
     "text": [
      "100%|██████████| 99607/99607 [00:31<00:00, 3210.13it/s]\n"
     ]
    }
   ],
   "source": [
    "chunk = open(\"training_data/chunk_short.txt\",\"a\", encoding=\"utf-8\")\n",
    "sentences_per_row = 40\n",
    "\n",
    "excluded = 0\n",
    "for filename in tqdm.tqdm(os.listdir(\"data\")):\n",
    "    with open(\"data/\" + filename, encoding=\"utf-8\") as file:\n",
    "        text = file.read().replace(\"\\n\",\"\")\n",
    "        split = text.split()\n",
    "        if len(split) > thresh and term_set.intersection(split):\n",
    "            sentences = np.array(text.split(\".\"))\n",
    "            sentence_lengths = np.array(list(map(len,map(str.split, sentences))))\n",
    "            sentences = sentences[(sentence_lengths > 4) & (sentence_lengths < 30)]\n",
    "            \n",
    "            sentences = sentences[:int(len(sentences)/sentences_per_row)*sentences_per_row].reshape(int(len(sentences)/sentences_per_row),sentences_per_row)\n",
    "            chunk.write(\"\\n\".join(map(str.lstrip, map(\".\".join, sentences))))\n",
    "        else:\n",
    "            excluded += 1\n",
    "chunk.close()"
   ],
   "metadata": {
    "collapsed": false,
    "ExecuteTime": {
     "end_time": "2023-12-18T16:37:00.409137800Z",
     "start_time": "2023-12-18T16:36:29.306108800Z"
    }
   },
   "id": "82517d66635754bc"
  },
  {
   "cell_type": "code",
   "execution_count": null,
   "outputs": [],
   "source": [
    "print(f\"Excluded {excluded} files\")"
   ],
   "metadata": {
    "collapsed": false
   },
   "id": "97ddf556c0fa093e"
  },
  {
   "cell_type": "code",
   "execution_count": 68,
   "outputs": [
    {
     "data": {
      "text/plain": "Downloading data files:   0%|          | 0/1 [00:00<?, ?it/s]",
      "application/vnd.jupyter.widget-view+json": {
       "version_major": 2,
       "version_minor": 0,
       "model_id": "72a5302c10194394be63e2bc75013221"
      }
     },
     "metadata": {},
     "output_type": "display_data"
    },
    {
     "data": {
      "text/plain": "Extracting data files:   0%|          | 0/1 [00:00<?, ?it/s]",
      "application/vnd.jupyter.widget-view+json": {
       "version_major": 2,
       "version_minor": 0,
       "model_id": "2e6a0d1c8d42412ca1ea855c9d23f484"
      }
     },
     "metadata": {},
     "output_type": "display_data"
    },
    {
     "data": {
      "text/plain": "Generating train split: 0 examples [00:00, ? examples/s]",
      "application/vnd.jupyter.widget-view+json": {
       "version_major": 2,
       "version_minor": 0,
       "model_id": "25c157e559af496890b9d0fade3a7306"
      }
     },
     "metadata": {},
     "output_type": "display_data"
    },
    {
     "data": {
      "text/plain": "Dataset({\n    features: ['text'],\n    num_rows: 30528\n})"
     },
     "execution_count": 68,
     "metadata": {},
     "output_type": "execute_result"
    }
   ],
   "source": [
    "import datasets\n",
    "ds = datasets.load_dataset(\"text\", data_dir=\"./training_data\", split=\"train\")\n",
    "ds"
   ],
   "metadata": {
    "collapsed": false,
    "ExecuteTime": {
     "end_time": "2023-12-18T16:37:16.538251600Z",
     "start_time": "2023-12-18T16:37:14.624198500Z"
    }
   },
   "id": "7068c7128c893d57"
  },
  {
   "cell_type": "code",
   "execution_count": 27,
   "outputs": [
    {
     "name": "stderr",
     "output_type": "stream",
     "text": [
      "100%|██████████| 99607/99607 [00:09<00:00, 10953.05it/s]\n"
     ]
    }
   ],
   "source": [
    "excluded = 0\n",
    "sentence_lengths = []\n",
    "for filename in tqdm.tqdm(os.listdir(\"data\")):\n",
    "    with open(\"data/\" + filename, encoding=\"utf-8\") as file:\n",
    "        text = file.read()\n",
    "        split = text.split(\".\")\n",
    "        sentence_lengths += list(map(len,map(str.split, split)))\n",
    "        "
   ],
   "metadata": {
    "collapsed": false,
    "ExecuteTime": {
     "end_time": "2023-12-18T16:05:40.765428200Z",
     "start_time": "2023-12-18T16:05:31.595473100Z"
    }
   },
   "id": "f012e30b85f7367e"
  },
  {
   "cell_type": "code",
   "execution_count": 29,
   "outputs": [
    {
     "data": {
      "text/plain": "<Figure size 640x480 with 1 Axes>",
      "image/png": "[encoded data removed]"
     },
     "metadata": {},
     "output_type": "display_data"
    }
   ],
   "source": [
    "plt.hist(sentence_lengths, bins=range(min(sentence_lengths), 60, 1))\n",
    "plt.show() "
   ],
   "metadata": {
    "collapsed": false,
    "ExecuteTime": {
     "end_time": "2023-12-18T16:06:12.623648600Z",
     "start_time": "2023-12-18T16:06:05.016199Z"
    }
   },
   "id": "efc730b6a1666f4a"
  }
 ],
 "metadata": {
  "kernelspec": {
   "display_name": "Python 3",
   "language": "python",
   "name": "python3"
  },
  "language_info": {
   "codemirror_mode": {
    "name": "ipython",
    "version": 2
   },
   "file_extension": ".py",
   "mimetype": "text/x-python",
   "name": "python",
   "nbconvert_exporter": "python",
   "pygments_lexer": "ipython2",
   "version": "2.7.6"
  }
 },
 "nbformat": 4,
 "nbformat_minor": 5
}
