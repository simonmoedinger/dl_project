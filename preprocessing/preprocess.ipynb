{
 "cells": [
  {
   "cell_type": "code",
   "execution_count": 1,
   "id": "initial_id",
   "metadata": {
    "collapsed": true,
    "ExecuteTime": {
     "end_time": "2024-01-13T21:06:10.785216100Z",
     "start_time": "2024-01-13T21:06:10.500802200Z"
    }
   },
   "outputs": [],
   "source": [
    "import os\n",
    "import matplotlib.pyplot as plt\n",
    "import tqdm \n",
    "import numpy as np"
   ]
  },
  {
   "cell_type": "code",
   "execution_count": 2,
   "outputs": [
    {
     "data": {
      "text/plain": "10265"
     },
     "execution_count": 2,
     "metadata": {},
     "output_type": "execute_result"
    }
   ],
   "source": [
    "terms = open(\"medizinische_begriffe_wiki.txt\",\"r\")\n",
    "term_set = set()\n",
    "\n",
    "for term in terms.read().split(\",\"):\n",
    "    if term.count(\" \") < 3 and len(term) < 20:\n",
    "        term_set.add(term)\n",
    "len(term_set)"
   ],
   "metadata": {
    "collapsed": false,
    "ExecuteTime": {
     "end_time": "2024-01-13T21:06:10.798989400Z",
     "start_time": "2024-01-13T21:06:10.785216100Z"
    }
   },
   "id": "a345bb72721c04de"
  },
  {
   "cell_type": "code",
   "execution_count": 3,
   "outputs": [],
   "source": [
    "thresh = 1100 # ca 10kb text"
   ],
   "metadata": {
    "collapsed": false,
    "ExecuteTime": {
     "end_time": "2024-01-13T21:06:10.802131600Z",
     "start_time": "2024-01-13T21:06:10.795991Z"
    }
   },
   "id": "e775729bcfc17d63"
  },
  {
   "cell_type": "code",
   "execution_count": 4,
   "outputs": [
    {
     "name": "stderr",
     "output_type": "stream",
     "text": [
      "100%|██████████| 99607/99607 [00:15<00:00, 6271.16it/s]\n"
     ]
    }
   ],
   "source": [
    "word_counter = {}\n",
    "excluded = 0\n",
    "sentence_lengths = []\n",
    "for filename in tqdm.tqdm(os.listdir(\"data\")):\n",
    "    with open(\"data/\" + filename, encoding=\"utf-8\") as file:\n",
    "        text = file.read().replace(\"\\n\",\"\")\n",
    "        split = text.split()\n",
    "        intersect = term_set.intersection(split)\n",
    "        sentence_lengths += list(map(len,map(str.split, text.split(\".\"))))\n",
    "        for word in intersect:\n",
    "            if word in word_counter:\n",
    "                word_counter[word] += 1\n",
    "            else:\n",
    "                word_counter[word] = 1\n",
    "        if len(split) < thresh:\n",
    "            excluded += 1"
   ],
   "metadata": {
    "collapsed": false,
    "ExecuteTime": {
     "end_time": "2024-01-13T21:06:26.774036200Z",
     "start_time": "2024-01-13T21:06:10.802131600Z"
    }
   },
   "id": "82517d66635754bc"
  },
  {
   "cell_type": "code",
   "execution_count": 5,
   "outputs": [
    {
     "name": "stdout",
     "output_type": "stream",
     "text": [
      "Excluded 81203 files that did not contain more than 1100 words\n"
     ]
    }
   ],
   "source": [
    "print(f\"Excluded {excluded} files that did not contain more than 1100 words\")"
   ],
   "metadata": {
    "collapsed": false,
    "ExecuteTime": {
     "end_time": "2024-01-13T21:06:26.780547200Z",
     "start_time": "2024-01-13T21:06:26.772811100Z"
    }
   },
   "id": "80aa52f8250e41e1"
  },
  {
   "cell_type": "code",
   "execution_count": 6,
   "outputs": [
    {
     "data": {
      "text/plain": "<Figure size 640x480 with 1 Axes>",
      "image/png": "[encoded data removed]"
     },
     "metadata": {},
     "output_type": "display_data"
    }
   ],
   "source": [
    "fig, ax = plt.subplots()\n",
    "\n",
    "# Plot the histogram using ax\n",
    "ax.hist(sentence_lengths, bins=range(min(sentence_lengths), 60, 1))\n",
    "\n",
    "# Set labels for the axes\n",
    "ax.set_xlabel(\"Words per sentence\")\n",
    "ax.set_ylabel(\"Sentences\")\n",
    "ax.set_title(\"Number of words per sentence\")\n",
    "\n",
    "# Display the plot\n",
    "plt.show()"
   ],
   "metadata": {
    "collapsed": false,
    "ExecuteTime": {
     "end_time": "2024-01-13T21:06:34.688959100Z",
     "start_time": "2024-01-13T21:06:26.775546700Z"
    }
   },
   "id": "8f668f5d2eecf56"
  },
  {
   "cell_type": "code",
   "execution_count": 7,
   "outputs": [
    {
     "name": "stdout",
     "output_type": "stream",
     "text": [
      "Medikament 2384\n",
      "Schwindel 2387\n",
      "schnelle 2405\n",
      "Gesundheitswesen 2433\n",
      "Tod 2434\n",
      "Schlaganfall 2454\n",
      "Facharzt 2460\n",
      "Auge 2557\n",
      "therapeutische 2565\n",
      "AIDS 2585\n",
      "Mediziner 2593\n",
      "Augenheilkunde 2597\n",
      "Packung 2607\n",
      "Schmerztherapie 2611\n",
      "Rehabilitation 2617\n",
      "Radiologie 2622\n",
      "Knochen 2642\n",
      "Magen 2690\n",
      "soziale 2694\n",
      "Fokus 2695\n",
      "Wachstum 2712\n",
      "Kardiologie 2743\n",
      "Unfallchirurgie 2746\n",
      "schwerer 2778\n",
      "Erbrechen 2781\n",
      "Temperatur 2803\n",
      "Hygiene 2824\n",
      "Einleitung 2826\n",
      "Mund 2844\n",
      "Kopf 2853\n",
      "Symptom 2858\n",
      "Frauenheilkunde 2881\n",
      "Lunge 2914\n",
      "Allgemeinmedizin 2915\n",
      "Leber 2941\n",
      "Haarausfall 2991\n",
      "Licht 3011\n",
      "Urologie 3142\n",
      "Schwellung 3148\n",
      "Kommunikation 3154\n",
      "Blutdruck 3165\n",
      "HIV 3225\n",
      "Raum 3269\n",
      "Geburt 3286\n",
      "Onkologie 3298\n",
      "Apotheke 3519\n",
      "chronische 3559\n",
      "Alkohol 3583\n",
      "Immunsystem 3623\n",
      "Durchfall 3681\n",
      "Bakterien 3701\n",
      "Husten 3717\n",
      "Depression 3761\n",
      "Geburtshilfe 3795\n",
      "Herz 3816\n",
      "Belastung 3842\n",
      "Psychiatrie 3916\n",
      "Reaktion 3975\n",
      "Operation 4002\n",
      "Darm 4066\n",
      "Vitamin 4076\n",
      "Intensivmedizin 4092\n",
      "Neurologie 4112\n",
      "Wirksamkeit 4130\n",
      "Verhalten 4130\n",
      "Hand 4319\n",
      "Verlauf 4339\n",
      "Wirkstoff 4483\n",
      "hoher 4529\n",
      "Patient 4683\n",
      "Sprache 5105\n",
      "Psychotherapie 5237\n",
      "Fieber 5301\n",
      "Stress 5367\n",
      "Mittel 5483\n",
      "Chirurgie 5603\n",
      "Arzneimittel 5661\n",
      "Blut 5803\n",
      "Gehirn 5811\n",
      "Bewegung 6039\n",
      "Infektion 6056\n",
      "Rolle 6059\n",
      "Krankenhaus 6062\n",
      "Schutz 6592\n",
      "Schwangerschaft 6678\n",
      "Alter 7533\n",
      "Verfahren 7999\n",
      "medizinische 8102\n",
      "Wasser 8696\n",
      "Untersuchung 9223\n",
      "Wirkung 11240\n",
      "Fall 11413\n",
      "Krankheit 11610\n",
      "Diagnose 12148\n",
      "Gesundheit 13309\n",
      "Medizin 13897\n",
      "Therapie 16570\n",
      "Arzt 19192\n",
      "2 22876\n",
      "Behandlung 26390\n"
     ]
    }
   ],
   "source": [
    "sorted_list = sorted(word_counter.items(), key=lambda item: item[1])\n",
    "\n",
    "for key, value in sorted_list[-100:]:\n",
    "    print(key, value)"
   ],
   "metadata": {
    "collapsed": false,
    "ExecuteTime": {
     "end_time": "2024-01-13T21:06:34.688959100Z",
     "start_time": "2024-01-13T21:06:34.683706400Z"
    }
   },
   "id": "84100f2d74388e97"
  },
  {
   "cell_type": "code",
   "execution_count": 8,
   "outputs": [],
   "source": [
    "terms2 = open(\"medizinische_begriffe_wiki.txt\",\"r\")\n",
    "term_set2 = set(terms2.read().split(\",\"))\n",
    "terms3 = open(\"medizinische_begriffe_wiki_removed_frequent.txt\",\"r\")\n",
    "term_set3 = set(terms3.read().split(\",\"))"
   ],
   "metadata": {
    "collapsed": false,
    "ExecuteTime": {
     "end_time": "2024-01-13T21:06:34.699116Z",
     "start_time": "2024-01-13T21:06:34.689958900Z"
    }
   },
   "id": "8590a1793f32b313"
  },
  {
   "cell_type": "code",
   "execution_count": 9,
   "outputs": [
    {
     "name": "stdout",
     "output_type": "stream",
     "text": [
      "Removed terms: {'Verlauf', 'Temperatur', 'Wirkung', 'Hand', 'Alkohol', 'Sprache', 'Verfahren', 'Schutz', 'Kommunikation', 'schnelle', 'Mittel', 'Mund', 'Fokus', '2', 'schwerer', 'Raum', 'hoher', 'Rolle', 'Packung', 'Fall', 'Alter', 'Bewegung', 'Einleitung', 'Licht', 'Kopf', 'soziale', 'Wasser'}\n"
     ]
    }
   ],
   "source": [
    "x = term_set2.difference(term_set3)\n",
    "print(\"Removed terms:\",set(np.array(sorted_list[-100:])[:,0]).difference(set([e[0] for e in sorted_list[-100:] if e[0] not in x])))"
   ],
   "metadata": {
    "collapsed": false,
    "ExecuteTime": {
     "end_time": "2024-01-13T21:06:34.704184Z",
     "start_time": "2024-01-13T21:06:34.699116Z"
    }
   },
   "id": "a375c6921ff2a2dd"
  },
  {
   "cell_type": "code",
   "execution_count": 10,
   "outputs": [],
   "source": [
    "terms = open(\"common_chatgpt_medical_terms.txt\",\"r\")\n",
    "term_set = set(terms.read().split(\",\"))"
   ],
   "metadata": {
    "collapsed": false,
    "ExecuteTime": {
     "end_time": "2024-01-13T21:06:34.709390100Z",
     "start_time": "2024-01-13T21:06:34.703183400Z"
    }
   },
   "id": "f5efe0d4ac1c5e6d"
  },
  {
   "cell_type": "code",
   "execution_count": 11,
   "outputs": [
    {
     "name": "stderr",
     "output_type": "stream",
     "text": [
      "100%|██████████| 99607/99607 [00:23<00:00, 4216.67it/s]\n"
     ]
    }
   ],
   "source": [
    "chunk = open(\"training_data/chunk_short.txt\",\"a\", encoding=\"utf-8\")\n",
    "sentences_per_row = 40\n",
    "removed_sentences = []\n",
    "\n",
    "remaining_sentences_ratio = 0\n",
    "\n",
    "excluded = 0\n",
    "for filename in tqdm.tqdm(os.listdir(\"data\")):\n",
    "    with open(\"data/\" + filename, encoding=\"utf-8\") as file:\n",
    "        text = file.read().replace(\"\\n\",\"\")\n",
    "        split = text.split()\n",
    "        intersect = term_set.intersection(split)\n",
    "        if len(split) > thresh and intersect:\n",
    "            sentences = np.array(text.split(\".\"))\n",
    "            sentence_lengths = np.array(list(map(len,map(str.split, sentences))))\n",
    "            remaining_sentences = sentences[(sentence_lengths > 4) & (sentence_lengths < 30)]\n",
    "            remaining_sentences_ratio += len(remaining_sentences) / len(sentences)\n",
    "            sentences = remaining_sentences\n",
    "            \n",
    "            sentences = sentences[:int(len(sentences)/sentences_per_row)*sentences_per_row].reshape(int(len(sentences)/sentences_per_row),sentences_per_row)\n",
    "            chunk.write(\"\\n\".join(map(str.lstrip, map(\".\".join, sentences))))\n",
    "        else:\n",
    "            excluded += 1\n",
    "remaining_sentences_ratio /= len(os.listdir(\"data\")) - excluded\n",
    "chunk.close()"
   ],
   "metadata": {
    "collapsed": false,
    "ExecuteTime": {
     "end_time": "2024-01-13T21:06:58.479909500Z",
     "start_time": "2024-01-13T21:06:34.711385Z"
    }
   },
   "id": "4b891390f9f7d969"
  },
  {
   "cell_type": "code",
   "execution_count": 12,
   "outputs": [
    {
     "name": "stdout",
     "output_type": "stream",
     "text": [
      "Excluded 90043 out of 99607 files that did not contain more than 1100 words and any medical terms from the term set\n"
     ]
    }
   ],
   "source": [
    "print(f\"Excluded {excluded} out of {len(os.listdir('data'))} files that did not contain more than 1100 words and any medical terms from the term set\")"
   ],
   "metadata": {
    "collapsed": false,
    "ExecuteTime": {
     "end_time": "2024-01-13T21:06:58.551062800Z",
     "start_time": "2024-01-13T21:06:58.478911200Z"
    }
   },
   "id": "97ddf556c0fa093e"
  },
  {
   "cell_type": "code",
   "execution_count": 13,
   "outputs": [
    {
     "name": "stdout",
     "output_type": "stream",
     "text": [
      "The ratio of sentences removed from the remaining documents is 0.6408140288015415\n"
     ]
    }
   ],
   "source": [
    "print(f\"The ratio of sentences removed from the remaining documents is {remaining_sentences_ratio}\")"
   ],
   "metadata": {
    "collapsed": false,
    "ExecuteTime": {
     "end_time": "2024-01-13T21:06:58.551062800Z",
     "start_time": "2024-01-13T21:06:58.549137800Z"
    }
   },
   "id": "ce9f5c63d64c788d"
  }
 ],
 "metadata": {
  "kernelspec": {
   "display_name": "Python 3",
   "language": "python",
   "name": "python3"
  },
  "language_info": {
   "codemirror_mode": {
    "name": "ipython",
    "version": 2
   },
   "file_extension": ".py",
   "mimetype": "text/x-python",
   "name": "python",
   "nbconvert_exporter": "python",
   "pygments_lexer": "ipython2",
   "version": "2.7.6"
  }
 },
 "nbformat": 4,
 "nbformat_minor": 5
}
